{
  "nbformat": 4,
  "nbformat_minor": 0,
  "metadata": {
    "colab": {
      "provenance": []
    },
    "kernelspec": {
      "name": "python3",
      "display_name": "Python 3"
    },
    "language_info": {
      "name": "python"
    }
  },
  "cells": [
    {
      "cell_type": "code",
      "execution_count": 720,
      "metadata": {
        "id": "eTyi3CDtnpYI",
        "colab": {
          "base_uri": "https://localhost:8080/"
        },
        "outputId": "b804112d-7e72-43c5-e067-e77ab0de6c1c"
      },
      "outputs": [
        {
          "output_type": "stream",
          "name": "stdout",
          "text": [
            "Running Panda Version:2.2.2\n",
            "Running TensorFlow Version:2.17.0\n",
            "Running Keras API Version:3.4.1\n",
            "Running Python 3.10\n"
          ]
        },
        {
          "output_type": "stream",
          "name": "stderr",
          "text": [
            "[nltk_data] Downloading package punkt to /root/nltk_data...\n",
            "[nltk_data]   Package punkt is already up-to-date!\n",
            "[nltk_data] Downloading package stopwords to /root/nltk_data...\n",
            "[nltk_data]   Package stopwords is already up-to-date!\n"
          ]
        }
      ],
      "source": [
        "import sys\n",
        "import pandas as pd\n",
        "pd.options.mode.chained_assignment = None\n",
        "import matplotlib.pyplot as plt\n",
        "from matplotlib.patches import ConnectionPatch\n",
        "import seaborn as sns\n",
        "import numpy as np\n",
        "import sklearn\n",
        "import string\n",
        "import re\n",
        "import nltk\n",
        "import tensorflow as tf\n",
        "from collections import Counter\n",
        "from tensorflow import keras\n",
        "from sklearn.linear_model import Perceptron\n",
        "from sklearn.model_selection import train_test_split\n",
        "from sklearn.preprocessing import LabelEncoder,OneHotEncoder\n",
        "from sklearn.feature_extraction.text import TfidfVectorizer,CountVectorizer\n",
        "from sklearn.utils import class_weight\n",
        "from keras.utils import pad_sequences\n",
        "from sklearn.feature_selection import SelectKBest,chi2\n",
        "from sklearn.metrics import accuracy_score,multilabel_confusion_matrix,f1_score,roc_auc_score,confusion_matrix,precision_score,recall_score\n",
        "from datetime import datetime\n",
        "nltk.download('punkt')\n",
        "nltk.download('stopwords')\n",
        "from nltk.corpus import stopwords\n",
        "from nltk.tokenize import word_tokenize\n",
        "from nltk.stem import PorterStemmer\n",
        "from nltk.tokenize import TweetTokenizer\n",
        "from google.colab import files,drive\n",
        "from wordcloud import WordCloud, STOPWORDS\n",
        "from sklearn.svm import LinearSVC,SVC\n",
        "from sklearn.model_selection import GridSearchCV,StratifiedKFold\n",
        "import warnings\n",
        "warnings.filterwarnings(action=\"ignore\", message=\"^internal gelsd\")\n",
        "print(\"Running Panda Version:\"+pd.__version__)\n",
        "print(\"Running TensorFlow Version:\"+ tf.__version__)\n",
        "print(\"Running Keras API Version:\"+ keras.__version__)\n",
        "print(\"Running Python {0}.{1}\".format(sys.version_info[:2][0],sys.version_info[:2][1]))"
      ]
    },
    {
      "cell_type": "code",
      "source": [
        "seed = 0\n",
        "np.random.seed(seed)"
      ],
      "metadata": {
        "id": "mmhMulXypzdL"
      },
      "execution_count": 721,
      "outputs": []
    },
    {
      "cell_type": "code",
      "source": [
        "uploaded = files.upload()"
      ],
      "metadata": {
        "colab": {
          "base_uri": "https://localhost:8080/",
          "height": 38
        },
        "id": "3ELwau-EubKs",
        "outputId": "9475cd1c-8671-4120-ca52-3722c2a8ea28"
      },
      "execution_count": null,
      "outputs": [
        {
          "output_type": "display_data",
          "data": {
            "text/plain": [
              "<IPython.core.display.HTML object>"
            ],
            "text/html": [
              "\n",
              "     <input type=\"file\" id=\"files-56d536ac-b42b-4d42-90d2-c7c5c7433003\" name=\"files[]\" multiple disabled\n",
              "        style=\"border:none\" />\n",
              "     <output id=\"result-56d536ac-b42b-4d42-90d2-c7c5c7433003\">\n",
              "      Upload widget is only available when the cell has been executed in the\n",
              "      current browser session. Please rerun this cell to enable.\n",
              "      </output>\n",
              "      <script>// Copyright 2017 Google LLC\n",
              "//\n",
              "// Licensed under the Apache License, Version 2.0 (the \"License\");\n",
              "// you may not use this file except in compliance with the License.\n",
              "// You may obtain a copy of the License at\n",
              "//\n",
              "//      http://www.apache.org/licenses/LICENSE-2.0\n",
              "//\n",
              "// Unless required by applicable law or agreed to in writing, software\n",
              "// distributed under the License is distributed on an \"AS IS\" BASIS,\n",
              "// WITHOUT WARRANTIES OR CONDITIONS OF ANY KIND, either express or implied.\n",
              "// See the License for the specific language governing permissions and\n",
              "// limitations under the License.\n",
              "\n",
              "/**\n",
              " * @fileoverview Helpers for google.colab Python module.\n",
              " */\n",
              "(function(scope) {\n",
              "function span(text, styleAttributes = {}) {\n",
              "  const element = document.createElement('span');\n",
              "  element.textContent = text;\n",
              "  for (const key of Object.keys(styleAttributes)) {\n",
              "    element.style[key] = styleAttributes[key];\n",
              "  }\n",
              "  return element;\n",
              "}\n",
              "\n",
              "// Max number of bytes which will be uploaded at a time.\n",
              "const MAX_PAYLOAD_SIZE = 100 * 1024;\n",
              "\n",
              "function _uploadFiles(inputId, outputId) {\n",
              "  const steps = uploadFilesStep(inputId, outputId);\n",
              "  const outputElement = document.getElementById(outputId);\n",
              "  // Cache steps on the outputElement to make it available for the next call\n",
              "  // to uploadFilesContinue from Python.\n",
              "  outputElement.steps = steps;\n",
              "\n",
              "  return _uploadFilesContinue(outputId);\n",
              "}\n",
              "\n",
              "// This is roughly an async generator (not supported in the browser yet),\n",
              "// where there are multiple asynchronous steps and the Python side is going\n",
              "// to poll for completion of each step.\n",
              "// This uses a Promise to block the python side on completion of each step,\n",
              "// then passes the result of the previous step as the input to the next step.\n",
              "function _uploadFilesContinue(outputId) {\n",
              "  const outputElement = document.getElementById(outputId);\n",
              "  const steps = outputElement.steps;\n",
              "\n",
              "  const next = steps.next(outputElement.lastPromiseValue);\n",
              "  return Promise.resolve(next.value.promise).then((value) => {\n",
              "    // Cache the last promise value to make it available to the next\n",
              "    // step of the generator.\n",
              "    outputElement.lastPromiseValue = value;\n",
              "    return next.value.response;\n",
              "  });\n",
              "}\n",
              "\n",
              "/**\n",
              " * Generator function which is called between each async step of the upload\n",
              " * process.\n",
              " * @param {string} inputId Element ID of the input file picker element.\n",
              " * @param {string} outputId Element ID of the output display.\n",
              " * @return {!Iterable<!Object>} Iterable of next steps.\n",
              " */\n",
              "function* uploadFilesStep(inputId, outputId) {\n",
              "  const inputElement = document.getElementById(inputId);\n",
              "  inputElement.disabled = false;\n",
              "\n",
              "  const outputElement = document.getElementById(outputId);\n",
              "  outputElement.innerHTML = '';\n",
              "\n",
              "  const pickedPromise = new Promise((resolve) => {\n",
              "    inputElement.addEventListener('change', (e) => {\n",
              "      resolve(e.target.files);\n",
              "    });\n",
              "  });\n",
              "\n",
              "  const cancel = document.createElement('button');\n",
              "  inputElement.parentElement.appendChild(cancel);\n",
              "  cancel.textContent = 'Cancel upload';\n",
              "  const cancelPromise = new Promise((resolve) => {\n",
              "    cancel.onclick = () => {\n",
              "      resolve(null);\n",
              "    };\n",
              "  });\n",
              "\n",
              "  // Wait for the user to pick the files.\n",
              "  const files = yield {\n",
              "    promise: Promise.race([pickedPromise, cancelPromise]),\n",
              "    response: {\n",
              "      action: 'starting',\n",
              "    }\n",
              "  };\n",
              "\n",
              "  cancel.remove();\n",
              "\n",
              "  // Disable the input element since further picks are not allowed.\n",
              "  inputElement.disabled = true;\n",
              "\n",
              "  if (!files) {\n",
              "    return {\n",
              "      response: {\n",
              "        action: 'complete',\n",
              "      }\n",
              "    };\n",
              "  }\n",
              "\n",
              "  for (const file of files) {\n",
              "    const li = document.createElement('li');\n",
              "    li.append(span(file.name, {fontWeight: 'bold'}));\n",
              "    li.append(span(\n",
              "        `(${file.type || 'n/a'}) - ${file.size} bytes, ` +\n",
              "        `last modified: ${\n",
              "            file.lastModifiedDate ? file.lastModifiedDate.toLocaleDateString() :\n",
              "                                    'n/a'} - `));\n",
              "    const percent = span('0% done');\n",
              "    li.appendChild(percent);\n",
              "\n",
              "    outputElement.appendChild(li);\n",
              "\n",
              "    const fileDataPromise = new Promise((resolve) => {\n",
              "      const reader = new FileReader();\n",
              "      reader.onload = (e) => {\n",
              "        resolve(e.target.result);\n",
              "      };\n",
              "      reader.readAsArrayBuffer(file);\n",
              "    });\n",
              "    // Wait for the data to be ready.\n",
              "    let fileData = yield {\n",
              "      promise: fileDataPromise,\n",
              "      response: {\n",
              "        action: 'continue',\n",
              "      }\n",
              "    };\n",
              "\n",
              "    // Use a chunked sending to avoid message size limits. See b/62115660.\n",
              "    let position = 0;\n",
              "    do {\n",
              "      const length = Math.min(fileData.byteLength - position, MAX_PAYLOAD_SIZE);\n",
              "      const chunk = new Uint8Array(fileData, position, length);\n",
              "      position += length;\n",
              "\n",
              "      const base64 = btoa(String.fromCharCode.apply(null, chunk));\n",
              "      yield {\n",
              "        response: {\n",
              "          action: 'append',\n",
              "          file: file.name,\n",
              "          data: base64,\n",
              "        },\n",
              "      };\n",
              "\n",
              "      let percentDone = fileData.byteLength === 0 ?\n",
              "          100 :\n",
              "          Math.round((position / fileData.byteLength) * 100);\n",
              "      percent.textContent = `${percentDone}% done`;\n",
              "\n",
              "    } while (position < fileData.byteLength);\n",
              "  }\n",
              "\n",
              "  // All done.\n",
              "  yield {\n",
              "    response: {\n",
              "      action: 'complete',\n",
              "    }\n",
              "  };\n",
              "}\n",
              "\n",
              "scope.google = scope.google || {};\n",
              "scope.google.colab = scope.google.colab || {};\n",
              "scope.google.colab._files = {\n",
              "  _uploadFiles,\n",
              "  _uploadFilesContinue,\n",
              "};\n",
              "})(self);\n",
              "</script> "
            ]
          },
          "metadata": {}
        }
      ]
    },
    {
      "cell_type": "markdown",
      "source": [
        "# ***Exploratory Data Analysis***"
      ],
      "metadata": {
        "id": "e8Ovgdgso4rM"
      }
    },
    {
      "cell_type": "code",
      "source": [
        "dataset = pd.read_csv(\"Tweets.csv\",na_values=['NA'], low_memory=False)"
      ],
      "metadata": {
        "id": "DZFDTjxQrTXu"
      },
      "execution_count": null,
      "outputs": []
    },
    {
      "cell_type": "markdown",
      "source": [
        "### Dataset shapes"
      ],
      "metadata": {
        "id": "8OM1endSpH0h"
      }
    },
    {
      "cell_type": "code",
      "source": [
        "print('Dataset structure: rows =',dataset.shape[0], ' - columns =',dataset.shape[1])"
      ],
      "metadata": {
        "id": "Bs_ygXkbrwYY"
      },
      "execution_count": null,
      "outputs": []
    },
    {
      "cell_type": "markdown",
      "source": [
        "##### Some random rows"
      ],
      "metadata": {
        "id": "9RiSYvKMpXGn"
      }
    },
    {
      "cell_type": "code",
      "source": [
        "dataset.sample(3)"
      ],
      "metadata": {
        "id": "nTjexsWEswjn"
      },
      "execution_count": null,
      "outputs": []
    },
    {
      "cell_type": "markdown",
      "source": [
        "###  Descriptive statistics for the dataset"
      ],
      "metadata": {
        "id": "HLW_avz9pjD1"
      }
    },
    {
      "cell_type": "code",
      "source": [
        "print('Dataset Features types:')\n",
        "dataset.dtypes"
      ],
      "metadata": {
        "id": "E5e3QBku8-9i"
      },
      "execution_count": null,
      "outputs": []
    },
    {
      "cell_type": "code",
      "source": [
        "print(\"List of names of columns:\\n\")\n",
        "print('-'*50)\n",
        "dataset.columns.tolist()"
      ],
      "metadata": {
        "id": "DUC0lie6gYMr"
      },
      "execution_count": null,
      "outputs": []
    },
    {
      "cell_type": "code",
      "source": [
        "print('Descriptive Statistics for numeric features on Dataset')\n",
        "dataset.describe(include=np.number)"
      ],
      "metadata": {
        "id": "mD_evEJcpK-S"
      },
      "execution_count": null,
      "outputs": []
    },
    {
      "cell_type": "code",
      "source": [
        "print('Range for numeric features on Dataset')\n",
        "print('-'*40)\n",
        "dataset.max(numeric_only=True) - dataset.min(numeric_only=True)"
      ],
      "metadata": {
        "id": "-rz8Kk3kqfL2"
      },
      "execution_count": null,
      "outputs": []
    },
    {
      "cell_type": "code",
      "source": [
        "dataset.info()"
      ],
      "metadata": {
        "id": "HNCt18ttuWtV"
      },
      "execution_count": null,
      "outputs": []
    },
    {
      "cell_type": "code",
      "source": [
        "print('Descriptive Statistics for categorical features on Dataset')\n",
        "dataset.describe(include=object)"
      ],
      "metadata": {
        "id": "sc1ImSiy-nV6"
      },
      "execution_count": null,
      "outputs": []
    },
    {
      "cell_type": "code",
      "source": [
        "print('Number of classes: ',len(dataset.airline_sentiment.unique().tolist()))"
      ],
      "metadata": {
        "id": "Qao_aVs-u7TV"
      },
      "execution_count": null,
      "outputs": []
    },
    {
      "cell_type": "code",
      "source": [
        "print('Name of classes (y): ',dataset.airline_sentiment.unique().tolist())"
      ],
      "metadata": {
        "id": "xk9QMXm0vSM_"
      },
      "execution_count": null,
      "outputs": []
    },
    {
      "cell_type": "code",
      "source": [
        "print('Check for duplicates?',dataset.duplicated().any())\n",
        "print('-'*70)\n",
        "print('Sum of duplicated rows :',dataset.duplicated().sum())"
      ],
      "metadata": {
        "id": "mdNbpA-J1bm3"
      },
      "execution_count": null,
      "outputs": []
    },
    {
      "cell_type": "code",
      "source": [
        "print('Check for missing values ',dataset.isnull().any().any())\n",
        "print('-'*70)\n",
        "print('Sum of Missing values accross columns\\n',dataset.isnull().sum())\n",
        "print('-'*70)\n",
        "print(\"Sum of missing values\",sum(dataset.isnull().sum()))"
      ],
      "metadata": {
        "id": "Z24Pp3An2SCG"
      },
      "execution_count": null,
      "outputs": []
    },
    {
      "cell_type": "code",
      "source": [
        "missing_data=dataset[dataset.isnull().any(axis=1)]\n",
        "missing_data.head(3)"
      ],
      "metadata": {
        "id": "DuEsgNY3VAZw"
      },
      "execution_count": null,
      "outputs": []
    },
    {
      "cell_type": "code",
      "source": [
        "dataset.airline_sentiment.value_counts()"
      ],
      "metadata": {
        "id": "dzPGu2FF6eRH"
      },
      "execution_count": null,
      "outputs": []
    },
    {
      "cell_type": "markdown",
      "source": [
        "####Data imbalance, more negative and neutral sentiment than positive."
      ],
      "metadata": {
        "id": "7dJ_lBOdCSSp"
      }
    },
    {
      "cell_type": "code",
      "source": [
        "list_of_airlines =dataset.airline.unique().tolist()\n",
        "print('list of airlines: ',list_of_airlines)"
      ],
      "metadata": {
        "id": "8TIEDzCm7HyJ"
      },
      "execution_count": null,
      "outputs": []
    },
    {
      "cell_type": "code",
      "source": [
        "print(\"Time of first tweet in the dataset:\",dataset.tweet_created.min())\n",
        "print('-'*70)\n",
        "print(\"Time of last tweet in the dataset:\",dataset.tweet_created.max())"
      ],
      "metadata": {
        "id": "kFelhzwt7qn_"
      },
      "execution_count": null,
      "outputs": []
    },
    {
      "cell_type": "code",
      "source": [
        "print(\"Airlines with tweet count\\n\", dataset.airline.value_counts())"
      ],
      "metadata": {
        "id": "FIuO3LJ78gze"
      },
      "execution_count": null,
      "outputs": []
    },
    {
      "cell_type": "code",
      "source": [
        "print(\"Tweets frequencies grouped by sentiments for the airlines\")\n",
        "print('-'*80)\n",
        "airlines_sentiments_groups = dataset.groupby(\"airline\", group_keys=True)[['airline_sentiment']].value_counts()\n",
        "airlines_sentiments_groups"
      ],
      "metadata": {
        "id": "SIy9n1c7C71A"
      },
      "execution_count": null,
      "outputs": []
    },
    {
      "cell_type": "code",
      "source": [
        "print(\"Maximum tweet confidence\",dataset.airline_sentiment_confidence.max())\n",
        "print('-'*80)\n",
        "print(\"Minimum tweet confidence\",dataset.airline_sentiment_confidence.min())"
      ],
      "metadata": {
        "id": "CGYpbqNFQDHC"
      },
      "execution_count": null,
      "outputs": []
    },
    {
      "cell_type": "code",
      "source": [
        "print(dataset.airline_sentiment_confidence.quantile([0,0.25,0.50,0.75,1]))"
      ],
      "metadata": {
        "id": "bYo1n2IF_izI"
      },
      "execution_count": null,
      "outputs": []
    },
    {
      "cell_type": "markdown",
      "source": [
        "####25 percent quantile for sentiment confidence is 0.65, which means that 25 percent of the dataset values for this measure is less than 0.65."
      ],
      "metadata": {
        "id": "mEy5oCB4AUKN"
      }
    },
    {
      "cell_type": "code",
      "source": [
        "dataset['negativereason'] =  dataset['negativereason'].fillna('N/A')"
      ],
      "metadata": {
        "id": "aT1uJd5TjFiN"
      },
      "execution_count": null,
      "outputs": []
    },
    {
      "cell_type": "code",
      "source": [
        "dataset[dataset['negativereason'] != 'N/A'].groupby(\"airline\", group_keys=True)[['negativereason']].value_counts()"
      ],
      "metadata": {
        "id": "KnqtVecngOA3"
      },
      "execution_count": null,
      "outputs": []
    },
    {
      "cell_type": "markdown",
      "source": [],
      "metadata": {
        "id": "XOzR4obRz0nf"
      }
    },
    {
      "cell_type": "markdown",
      "source": [
        "##### Highest retweet"
      ],
      "metadata": {
        "id": "hOKHHXdzz0qR"
      }
    },
    {
      "cell_type": "code",
      "source": [
        "print(dataset[['text','airline','airline_sentiment']].loc[dataset['retweet_count'].max()])"
      ],
      "metadata": {
        "id": "TEy6ZrzrlDbs"
      },
      "execution_count": null,
      "outputs": []
    },
    {
      "cell_type": "code",
      "source": [],
      "metadata": {
        "id": "IhwFLX1aoOQB"
      },
      "execution_count": null,
      "outputs": []
    },
    {
      "cell_type": "markdown",
      "source": [],
      "metadata": {
        "id": "Ido_MdIODKz9"
      }
    },
    {
      "cell_type": "markdown",
      "source": [
        "## Data visualization (Multivariate analysis)."
      ],
      "metadata": {
        "id": "-PRu1wA1qAly"
      }
    },
    {
      "cell_type": "code",
      "source": [
        "target_classes,tweet_freq = np.unique(dataset.airline_sentiment,return_counts=True)\n",
        "print(target_classes,tweet_freq)"
      ],
      "metadata": {
        "id": "LRaWMxQ3jHYi"
      },
      "execution_count": null,
      "outputs": []
    },
    {
      "cell_type": "code",
      "source": [
        "def func(pct, allvals)->str:\n",
        "    absolute = int(np.round(pct/100.*np.sum(allvals)))\n",
        "    return f\"{pct:.1f}%\\n ({absolute:d})\""
      ],
      "metadata": {
        "id": "SsR7ksWZUUdL"
      },
      "execution_count": null,
      "outputs": []
    },
    {
      "cell_type": "code",
      "source": [
        "# make figure and assign axis objects\n",
        "fig, (ax1,ax2,ax3) = plt.subplots(1, 3, figsize=(20, 8))\n",
        "fig.subplots_adjust(wspace=0)\n",
        "\n",
        "# pie chart parameters\n",
        "overall_ratios = tweet_freq\n",
        "labels = target_classes\n",
        "explode = [0.1, 0, 0]\n",
        "colors =['c','y','g']\n",
        "# rotate so that first wedge is split by the x-axis\n",
        "angle = -272 * overall_ratios[2]\n",
        "wedges, *_ = ax1.pie(overall_ratios, autopct=lambda pct: func(pct, overall_ratios),shadow=True,labels=labels, explode=explode,colors=colors,startangle=angle)\n",
        "\n",
        "# bar chart parameters\n",
        "negative_sentiment_ratios =[airlines_sentiments_groups[x]['negative'] for x in list_of_airlines]\n",
        "airline_labels = list_of_airlines\n",
        "bottom = 5\n",
        "width = .2\n",
        "\n",
        "# Adding from the top matches the legend.\n",
        "for j, (height, label) in enumerate(reversed([*zip(negative_sentiment_ratios, airline_labels)])):\n",
        "    bottom -= height\n",
        "    bc = ax2.bar(0, height, width, bottom=bottom, color='C0', label=label,alpha=0.1 + 0.17 * j)\n",
        "    ax2.bar_label(bc, labels=[height], label_type='center')\n",
        "\n",
        "ax2.legend(loc=3)\n",
        "ax2.set_title('Negative sentiments count per airline')\n",
        "ax2.axis('off')\n",
        "ax2.set_xlim(- 3.5 * width, 3.5 * width)\n",
        "\n",
        "# use ConnectionPatch to draw lines between the two plots\n",
        "theta1, theta2 = wedges[0].theta1, wedges[0].theta2\n",
        "center, r = wedges[0].center, wedges[0].r\n",
        "bar_height = sum(negative_sentiment_ratios)\n",
        "\n",
        "# draw top connecting line\n",
        "x = r * np.cos(np.pi / 180 * theta2) + center[0]\n",
        "y = r * np.sin(np.pi / 180 * theta2) + center[1]\n",
        "con = ConnectionPatch(xyA=(-width / 2, 0), coordsA=ax2.transData,\n",
        "                      xyB=(x, y), coordsB=ax1.transData)\n",
        "con.set_color([0, 0, 0])\n",
        "con.set_linewidth(1)\n",
        "ax2.add_artist(con)\n",
        "\n",
        "# draw bottom connecting line\n",
        "x = r * np.cos(np.pi / 180 * theta1) + center[0]\n",
        "y = r * np.sin(np.pi / 180 * theta1) + center[1]\n",
        "con = ConnectionPatch(xyA=(-width / 2, -bar_height), coordsA=ax2.transData,xyB=(x, y), coordsB=ax1.transData)\n",
        "con.set_color([0, 0, 0])\n",
        "ax2.add_artist(con)\n",
        "con.set_linewidth(1)\n",
        "\n",
        "ax3 = sns.countplot(x=\"airline\", hue=\"airline_sentiment\", data=dataset)\n",
        "ax3.set_xlabel('')\n",
        "ax3.set_ylabel('Number of Tweets')\n",
        "ax3.set_title('Tweets per airline within Training Dataset')\n",
        "\n",
        "\n",
        "plt.show()\n",
        "del ax1,ax2,ax3"
      ],
      "metadata": {
        "id": "cvd1Pq245qJp"
      },
      "execution_count": null,
      "outputs": []
    },
    {
      "cell_type": "markdown",
      "source": [
        "##### Date decomposition (feature creation)."
      ],
      "metadata": {
        "id": "HH4orQCMTYWc"
      }
    },
    {
      "cell_type": "code",
      "source": [
        "def decode_date(date_str)-> pd.Series:\n",
        "  aux = date_str.replace(' -0800','')\n",
        "  date_utc = datetime.strptime(aux,\"%Y-%m-%d %H:%M:%S\")\n",
        "  return pd.Series([date_utc.weekday(),date_utc.day,date_utc.hour])"
      ],
      "metadata": {
        "id": "vxqoyZYq5qUU"
      },
      "execution_count": null,
      "outputs": []
    },
    {
      "cell_type": "code",
      "source": [
        "dataset[['week_day','day','hour']] = dataset['tweet_created'].apply(decode_date)"
      ],
      "metadata": {
        "id": "IdF8dmsQT6PX"
      },
      "execution_count": null,
      "outputs": []
    },
    {
      "cell_type": "code",
      "source": [
        "dataset.head(3)"
      ],
      "metadata": {
        "id": "Lwsc76ilUIZ_"
      },
      "execution_count": null,
      "outputs": []
    },
    {
      "cell_type": "code",
      "source": [
        "fig, axes = plt.subplots(figsize=(8,5))\n",
        "ax = sns.countplot(x=\"day\", hue=\"airline_sentiment\", data=dataset)\n",
        "ax.set_xlabel('Day')\n",
        "ax.set_ylabel('Number of Tweets')\n",
        "ax.set_title('Daily AirLine Tweets Distribution within a month')\n",
        "del ax,fig,axes"
      ],
      "metadata": {
        "id": "ujOnD1D3UpB3"
      },
      "execution_count": null,
      "outputs": []
    },
    {
      "cell_type": "code",
      "source": [
        "fig, axes = plt.subplots(figsize=(8,5))\n",
        "ax = sns.countplot(x=\"week_day\", hue=\"airline_sentiment\", data=dataset)\n",
        "ax.set_xlabel('Week day')\n",
        "ax.set(xticklabels=['Monday','Tuesday','Wednesday','Thursday','Friday','Saturday','Sunday'])\n",
        "ax.set_ylabel('Number of Tweets')\n",
        "ax.set_title('Daily AirLine Tweets Distribution within a week')\n",
        "del ax,fig,axes"
      ],
      "metadata": {
        "id": "VGA4GigGXDHJ"
      },
      "execution_count": null,
      "outputs": []
    },
    {
      "cell_type": "code",
      "source": [
        "fig, axes = plt.subplots(figsize=(8,5))\n",
        "ax = sns.countplot(x=\"hour\", hue=\"airline_sentiment\", data=dataset)\n",
        "ax.set_xlabel('Hour')\n",
        "ax.set_ylabel('Number of Tweets')\n",
        "ax.set_title('Tweets Distribution within 24hrs')\n",
        "del ax,fig,axes"
      ],
      "metadata": {
        "id": "jQIgAbePXwYj"
      },
      "execution_count": null,
      "outputs": []
    },
    {
      "cell_type": "markdown",
      "source": [
        "### Top 20 tweet authors"
      ],
      "metadata": {
        "id": "9i4jEFE4pvUB"
      }
    },
    {
      "cell_type": "code",
      "source": [
        "top_tweeter = Counter([name for name in dataset['name']])\n",
        "top_tweeter_df = pd.DataFrame(top_tweeter.most_common(20))\n",
        "top_tweeter_df.columns = ['top_tweet_authors','count']\n",
        "print(\"Top 20 Authors\",'-'*15)\n",
        "top_tweeter_df.style.background_gradient(cmap='inferno')"
      ],
      "metadata": {
        "id": "kn_FfMDKoDnC"
      },
      "execution_count": null,
      "outputs": []
    },
    {
      "cell_type": "markdown",
      "source": [
        "### Top reasons for complain."
      ],
      "metadata": {
        "id": "U_FjHO2UL6lm"
      }
    },
    {
      "cell_type": "code",
      "source": [
        "top_complain = Counter([reason for reason in dataset[dataset['negativereason'] != 'N/A']['negativereason']])\n",
        "top_complain_df = pd.DataFrame(top_complain.most_common(10))\n",
        "top_complain_df.columns = ['top_complain_reason','count']\n",
        "print(\"Top 10 complain\",'-'*15)\n",
        "top_complain_df.style.background_gradient(cmap='inferno')"
      ],
      "metadata": {
        "id": "Nxac_IGIL5Uu"
      },
      "execution_count": null,
      "outputs": []
    },
    {
      "cell_type": "markdown",
      "source": [
        "### Data preprocessing, feature engineering."
      ],
      "metadata": {
        "id": "F8nFcGgfkx4E"
      }
    },
    {
      "cell_type": "code",
      "source": [
        "#For removing user tags(@user)\n",
        "def remove_user_tags(tweet:str)->tuple[str,int]:\n",
        "    user = re.compile(r'@\\S+')\n",
        "    initial = len(tweet)\n",
        "    text = user.sub(r'',tweet)\n",
        "    result = ''.join([i for i in text if not i.isdigit()])\n",
        "    final = len(result)\n",
        "    number = 0\n",
        "    for i in text:\n",
        "      if i.isdigit():\n",
        "        number+=1\n",
        "    if( final == initial - number):\n",
        "      return (result,0)\n",
        "    else:\n",
        "      return (result,1)\n",
        "\n",
        "#For removing Url links\n",
        "def remove_url(tweet:str)->tuple[str,int]:\n",
        "    url = re.compile(r'https?://\\S+|www\\.\\S+')\n",
        "    initial = len(tweet)\n",
        "    text = url.sub(r'',tweet,re.IGNORECASE)\n",
        "    result = ''.join([i for i in text if not i.isdigit()])\n",
        "    final = len(result)\n",
        "    number = 0\n",
        "    for i in text:\n",
        "      if i.isdigit():\n",
        "        number += 1\n",
        "    if( final == initial - number):\n",
        "      return (result,0)\n",
        "    else:\n",
        "      return (result,1)"
      ],
      "metadata": {
        "id": "eZS7DRltkiSj"
      },
      "execution_count": null,
      "outputs": []
    },
    {
      "cell_type": "code",
      "source": [
        "def clean_and_create_feature(tweet:str)-> pd.Series:\n",
        "    (str_without_tags,tag_flag) = remove_user_tags(tweet)\n",
        "    (str_without_links,url_flag) = remove_url(str_without_tags)\n",
        "    return pd.Series([str_without_links,tag_flag,url_flag])"
      ],
      "metadata": {
        "id": "C5aSjl48v-l0"
      },
      "execution_count": null,
      "outputs": []
    },
    {
      "cell_type": "code",
      "source": [
        "dataset[['text','user_tag','url_flag']] = dataset.apply(lambda x: clean_and_create_feature(x.text),axis=1)"
      ],
      "metadata": {
        "id": "qQ8OMsu_x6Sb"
      },
      "execution_count": null,
      "outputs": []
    },
    {
      "cell_type": "code",
      "source": [
        "dataset.head(3)"
      ],
      "metadata": {
        "id": "dt23NYL-rfd8"
      },
      "execution_count": null,
      "outputs": []
    },
    {
      "cell_type": "code",
      "source": [
        "print(dataset.groupby(\"airline_sentiment\", group_keys=True)[['user_tag']].value_counts())\n",
        "print('-'*50)\n",
        "print(dataset.groupby(\"airline_sentiment\", group_keys=True)[['url_flag']].value_counts())"
      ],
      "metadata": {
        "id": "FMu00OXLgtk_"
      },
      "execution_count": null,
      "outputs": []
    },
    {
      "cell_type": "code",
      "source": [
        "f, axes = plt.subplots(figsize=(8,5))\n",
        "ax = sns.countplot(x=\"user_tag\", hue=\"airline_sentiment\", data=dataset)\n",
        "ax.set(xticklabels=['With mension tag'])\n",
        "ax.set_xlabel('')\n",
        "ax.set_ylabel('Number of Tweets')\n",
        "ax.set_title('Tweets with User tag distribution within the dataset')\n",
        "del ax,f,axes"
      ],
      "metadata": {
        "id": "E6OTEbLalmfq"
      },
      "execution_count": null,
      "outputs": []
    },
    {
      "cell_type": "code",
      "source": [
        "f, axes = plt.subplots(figsize=(8, 5))\n",
        "ax = sns.countplot(x=\"url_flag\",hue=\"airline_sentiment\", data=dataset)\n",
        "ax.set(xticklabels=['Without URL','With URL'])\n",
        "ax.set_xlabel('')\n",
        "ax.set_ylabel('Number of Tweets')\n",
        "ax.set_title('Tweets with URL distribution within the dataset')\n",
        "del ax,f,axes"
      ],
      "metadata": {
        "id": "Fd887QQgAWwX"
      },
      "execution_count": null,
      "outputs": []
    },
    {
      "cell_type": "code",
      "source": [
        "def happy_emoticons_removal(tweet:str) ->tuple[str,int]:\n",
        "    happy = re.compile(r\"([xX;:]-?[dDpP)])\")\n",
        "    initial = len(tweet)\n",
        "    text = happy.sub(r'',tweet)\n",
        "    result = ''.join([i for i in text if not i.isdigit()])\n",
        "    final = len(result)\n",
        "    number = 0\n",
        "    for i in text:\n",
        "      if i.isdigit():\n",
        "        number += 1\n",
        "    if( final != initial - number):\n",
        "      return (result,1)\n",
        "    return (result,0)\n",
        "\n",
        "def sad_emoticons_removal(tweet:str) ->tuple[str,int]:\n",
        "    sad = re.compile(r\"[:;](['\\\"]?[-~]?[/(\\|C<>{}\\[]+)\")\n",
        "    initial = len(tweet)\n",
        "    text = sad.sub(r'',tweet)\n",
        "    result = ''.join([i for i in text if not i.isdigit()])\n",
        "    final = len(result)\n",
        "    number = 0\n",
        "    for i in text:\n",
        "      if i.isdigit():\n",
        "        number += 1\n",
        "    if( final != initial - number):\n",
        "      return (result,1)\n",
        "    return (result,0)\n"
      ],
      "metadata": {
        "id": "FbyHwmjWsbbP"
      },
      "execution_count": null,
      "outputs": []
    },
    {
      "cell_type": "code",
      "source": [
        "def emoticon_removal_and_feature_creation(tweet:str)-> pd.Series:\n",
        "  (str_without_happy_emoji,happy_emoji_flag) = happy_emoticons_removal(tweet)\n",
        "  (str_without_emoji,sad_emoji_flag) = sad_emoticons_removal(str_without_happy_emoji)\n",
        "  return pd.Series([str_without_emoji,happy_emoji_flag,sad_emoji_flag])"
      ],
      "metadata": {
        "id": "3GPUWgMbsqXM"
      },
      "execution_count": null,
      "outputs": []
    },
    {
      "cell_type": "code",
      "source": [
        "dataset[['text','happy_emoji','sad_emoji']] = dataset.apply(lambda x: emoticon_removal_and_feature_creation(x.text),axis=1)"
      ],
      "metadata": {
        "id": "Fb7sno6BsqzK"
      },
      "execution_count": null,
      "outputs": []
    },
    {
      "cell_type": "code",
      "source": [
        "f, axes = plt.subplots(1,2,figsize=(12, 5))\n",
        "ax = sns.countplot(x=\"happy_emoji\", hue=\"airline_sentiment\", data=dataset,ax=axes[0])\n",
        "ax.set(xticklabels=['False','True'])\n",
        "ax.set_xlabel('\"Happy\" emoji on Tweet')\n",
        "ax.set_ylabel('Number of Tweets')\n",
        "ax = sns.countplot(x=\"happy_emoji\", hue=\"airline_sentiment\", data=dataset[dataset.happy_emoji==1],ax=axes[1])\n",
        "ax.set(xticklabels=['True'])\n",
        "ax.set_xlabel('\"Happy\" emoji on Tweet')\n",
        "ax.set_ylabel('Number of Tweets')\n",
        "f.suptitle('Distribution of \"Happy\" emoji within the dataset',fontsize=15)\n",
        "del ax,f,axes"
      ],
      "metadata": {
        "id": "XOeD0em8tm_p"
      },
      "execution_count": null,
      "outputs": []
    },
    {
      "cell_type": "code",
      "source": [
        "f, axes = plt.subplots(1,2,figsize=(12, 5))\n",
        "ax = sns.countplot(x=\"sad_emoji\", hue=\"airline_sentiment\", data=dataset,ax=axes[0])\n",
        "ax.set(xticklabels=['False','True'])\n",
        "ax.set_xlabel('\"Sad\" emoji on Tweet')\n",
        "ax.set_ylabel('Number of Tweets')\n",
        "ax = sns.countplot(x=\"sad_emoji\", hue=\"airline_sentiment\", data=dataset[dataset.sad_emoji==1],ax=axes[1])\n",
        "ax.set(xticklabels=['True'])\n",
        "ax.set_xlabel('\"Sad\" emoji on Tweet')\n",
        "ax.set_ylabel('Number of Tweets')\n",
        "f.suptitle('Distribution of \"Sad\" emoji within the dataset',fontsize=15)\n",
        "del ax,f,axes"
      ],
      "metadata": {
        "id": "AdxP1BP_EfVT"
      },
      "execution_count": null,
      "outputs": []
    },
    {
      "cell_type": "code",
      "source": [
        "print(dataset.groupby(\"airline_sentiment\", group_keys=True)[['happy_emoji']].value_counts())\n",
        "print('-'*50)\n",
        "print(dataset.groupby(\"airline_sentiment\", group_keys=True)[['sad_emoji']].value_counts())"
      ],
      "metadata": {
        "id": "ahn8nZc9wDtM"
      },
      "execution_count": null,
      "outputs": []
    },
    {
      "cell_type": "code",
      "source": [
        "positive_sentiment = dataset[dataset.airline_sentiment == \"positive\"]\n",
        "positive_text=positive_sentiment['text']\n",
        "negative_sentiment = dataset[dataset.airline_sentiment == 'negative']\n",
        "negative_text=negative_sentiment['text']\n",
        "neutral_sentiment = dataset[dataset.airline_sentiment == 'neutral']\n",
        "neutral_text=neutral_sentiment['text']\n",
        "complain_text = top_complain_df['top_complain_reason']\n",
        "top_authors = top_tweeter_df[\"top_tweet_authors\"]"
      ],
      "metadata": {
        "id": "xPgum7TsjhMC"
      },
      "execution_count": null,
      "outputs": []
    },
    {
      "cell_type": "code",
      "source": [
        "%%time\n",
        "# Create and generate a word\n",
        "fig, ax = plt.subplots(1, 5, figsize=(20, 8),edgecolor = 'k')\n",
        "positive_tweet = WordCloud(width = 400,height = 400,background_color = 'black',max_words = 90,stopwords = STOPWORDS).generate(str(positive_text))\n",
        "negative_tweet = WordCloud(width = 400,height = 400,background_color = 'black',max_words = 90,stopwords = STOPWORDS).generate(str(negative_text))\n",
        "neutral_tweet = WordCloud(width = 400,height = 400,background_color = 'black',max_words = 90,stopwords = STOPWORDS).generate(str(neutral_text))\n",
        "complain_tweet = WordCloud(width = 400,height = 400,background_color = 'black',max_words = 90,stopwords = STOPWORDS).generate(str(complain_text))\n",
        "top_authors_tweet = WordCloud(width = 400,height = 400,background_color = 'black',max_words = 90,stopwords = STOPWORDS).generate(str(top_authors))\n",
        "\n",
        "ax[0].imshow(positive_tweet)\n",
        "ax[0].axis('off')\n",
        "ax[0].set_title('Positive Sentiment')\n",
        "\n",
        "ax[1].imshow(negative_tweet)\n",
        "ax[1].axis('off')\n",
        "ax[1].set_title('Negative Sentiment')\n",
        "\n",
        "ax[2].imshow(neutral_tweet)\n",
        "ax[2].axis('off')\n",
        "ax[2].set_title('Neutral Sentiment')\n",
        "\n",
        "\n",
        "\n",
        "ax[3].imshow(complain_tweet)\n",
        "ax[3].axis('off')\n",
        "ax[3].set_title('Top complain from clients')\n",
        "\n",
        "\n",
        "ax[4].imshow(top_authors_tweet)\n",
        "ax[4].axis('off')\n",
        "ax[4].set_title('top authors name')\n",
        "\n",
        "plt.show()\n",
        "#del top_tweeter_df,top_complain_df"
      ],
      "metadata": {
        "id": "TEwHlBKtjpwb"
      },
      "execution_count": null,
      "outputs": []
    },
    {
      "cell_type": "markdown",
      "source": [
        "#### Drop less beneficial columns"
      ],
      "metadata": {
        "id": "uYhdfnA4IUif"
      }
    },
    {
      "cell_type": "code",
      "source": [
        "dataset.drop(['user_tag','tweet_id','name','negativereason','tweet_created','negativereason_confidence','airline_sentiment_gold','negativereason_gold','tweet_coord','tweet_location','user_timezone'],axis=1,inplace=True)"
      ],
      "metadata": {
        "id": "yqMwFurii1oL"
      },
      "execution_count": null,
      "outputs": []
    },
    {
      "cell_type": "code",
      "source": [
        "print(\"Sum of missing values\",sum(dataset.isnull().sum()))"
      ],
      "metadata": {
        "id": "R8unWIAN1jIU"
      },
      "execution_count": null,
      "outputs": []
    },
    {
      "cell_type": "code",
      "source": [
        "target_dict = {'positive':1,'negative': -1,'neutral': 0}\n",
        "dataset['target'] = dataset['airline_sentiment'].map(target_dict)"
      ],
      "metadata": {
        "id": "S5YG8IdO7DbG"
      },
      "execution_count": null,
      "outputs": []
    },
    {
      "cell_type": "code",
      "source": [],
      "metadata": {
        "id": "E41sK26k7JhS"
      },
      "execution_count": null,
      "outputs": []
    },
    {
      "cell_type": "code",
      "source": [
        "def split_dataset(df:pd.DataFrame,test_percentage:float)-> tuple[pd.DataFrame,pd.DataFrame]:\n",
        "  shuffle = np.random.permutation(len(df))\n",
        "  test_size = int(len(df) * test_percentage)\n",
        "  test_aux = shuffle[:test_size]\n",
        "  train_aux = shuffle[test_size:]\n",
        "  return (df.iloc[train_aux],df.iloc[test_aux])"
      ],
      "metadata": {
        "id": "QMcI9GFNJkzY"
      },
      "execution_count": null,
      "outputs": []
    },
    {
      "cell_type": "code",
      "source": [
        "train, test = split_dataset(dataset,0.2)"
      ],
      "metadata": {
        "id": "IlFBGEJux8bE"
      },
      "execution_count": null,
      "outputs": []
    },
    {
      "cell_type": "code",
      "source": [
        "print(train.shape,test.shape)"
      ],
      "metadata": {
        "id": "Ih-resYgyi7Q"
      },
      "execution_count": null,
      "outputs": []
    },
    {
      "cell_type": "code",
      "source": [
        "train.head(3)"
      ],
      "metadata": {
        "id": "62FpG-JA4Swx"
      },
      "execution_count": null,
      "outputs": []
    },
    {
      "cell_type": "code",
      "source": [
        "def stop_word_and_stemming(tweet:str)->str:\n",
        "    tknzr = TweetTokenizer(preserve_case=False,strip_handles=True, reduce_len=True)\n",
        "    myStemmer = PorterStemmer()\n",
        "    tweet = tknzr.tokenize(tweet)\n",
        "    stop = stopwords.words('english')\n",
        "    new_list = [myStemmer.stem(word) for word in tweet if word not in stop]\n",
        "    tweet = ' '.join(new_list)\n",
        "    return tweet\n",
        "\n",
        "#For removing punctuation\n",
        "def remove_punctuations(text:str):\n",
        "    for punctuation in string.punctuation:\n",
        "        text = text.replace(punctuation, '')\n",
        "    return text"
      ],
      "metadata": {
        "id": "D-VlHPP5z-Vz"
      },
      "execution_count": null,
      "outputs": []
    },
    {
      "cell_type": "code",
      "source": [
        "train['text'] = train['text'].apply(stop_word_and_stemming)\n",
        "test['text'] = test['text'].apply(stop_word_and_stemming)"
      ],
      "metadata": {
        "id": "HD6VFkfT0OyF"
      },
      "execution_count": null,
      "outputs": []
    },
    {
      "cell_type": "code",
      "source": [
        "train['text'] = train['text'].apply(remove_punctuations)\n",
        "test['text'] = test['text'].apply(remove_punctuations)"
      ],
      "metadata": {
        "id": "OqEd2Hk40iAP"
      },
      "execution_count": null,
      "outputs": []
    },
    {
      "cell_type": "code",
      "source": [
        "train.duplicated().any()"
      ],
      "metadata": {
        "id": "2VGj8J6R09pP"
      },
      "execution_count": null,
      "outputs": []
    },
    {
      "cell_type": "code",
      "source": [
        "train.shape"
      ],
      "metadata": {
        "id": "ZejzlVgP1OC9"
      },
      "execution_count": null,
      "outputs": []
    },
    {
      "cell_type": "code",
      "source": [
        "train.drop_duplicates(inplace=True)"
      ],
      "metadata": {
        "id": "RIm7JVlL1GAt"
      },
      "execution_count": null,
      "outputs": []
    },
    {
      "cell_type": "code",
      "source": [
        "train.head(3)"
      ],
      "metadata": {
        "id": "fmoB-Gup2Jij"
      },
      "execution_count": null,
      "outputs": []
    },
    {
      "cell_type": "markdown",
      "source": [
        "### Baseline Model Implementation\n"
      ],
      "metadata": {
        "id": "HtfqM1rwNl5h"
      }
    },
    {
      "cell_type": "code",
      "source": [
        "y = train['target'].to_numpy()"
      ],
      "metadata": {
        "id": "k9LltXvX7nDz"
      },
      "execution_count": null,
      "outputs": []
    },
    {
      "cell_type": "code",
      "source": [
        "y_t = test['target'].to_numpy()"
      ],
      "metadata": {
        "id": "TDGE5tcPDj_C"
      },
      "execution_count": null,
      "outputs": []
    },
    {
      "cell_type": "code",
      "source": [
        "vec = CountVectorizer(ngram_range=(1,2)).fit(train['text'])"
      ],
      "metadata": {
        "id": "waByeEL1C1Gx"
      },
      "execution_count": null,
      "outputs": []
    },
    {
      "cell_type": "code",
      "source": [
        "X = vec.transform(train['text'])"
      ],
      "metadata": {
        "id": "GmoQmQtKZMNI"
      },
      "execution_count": null,
      "outputs": []
    },
    {
      "cell_type": "code",
      "source": [
        "X_t =vec.transform(test['text'])"
      ],
      "metadata": {
        "id": "c0ZSM2DaDval"
      },
      "execution_count": null,
      "outputs": []
    },
    {
      "cell_type": "code",
      "source": [
        "vocab_size = len(vec.vocabulary_) + 1"
      ],
      "metadata": {
        "id": "uOASoIsiI34I"
      },
      "execution_count": null,
      "outputs": []
    },
    {
      "cell_type": "code",
      "source": [
        "print(\"Vocabulary Size :\", vocab_size)"
      ],
      "metadata": {
        "id": "lPjZkW_nJBYi"
      },
      "execution_count": null,
      "outputs": []
    },
    {
      "cell_type": "code",
      "source": [
        "# feature selection\n",
        "def features_selection(X_train, y_train, X_test):\n",
        "\tSKB = SelectKBest(score_func=chi2, k='all')\n",
        "\tSKB.fit(X_train, y_train)\n",
        "\tX_train_fs = SKB.transform(X_train)\n",
        "\tX_test_fs = SKB.transform(X_test)\n",
        "\treturn X_train_fs, X_test_fs, SKB"
      ],
      "metadata": {
        "id": "wixkoEqyD_eU"
      },
      "execution_count": null,
      "outputs": []
    },
    {
      "cell_type": "code",
      "source": [
        "X_train_fs, X_test_fs, SKB = features_selection(X, y, X_t)"
      ],
      "metadata": {
        "id": "Tr5BGDZ1EIV9"
      },
      "execution_count": null,
      "outputs": []
    },
    {
      "cell_type": "code",
      "source": [
        "for i in range(3):\n",
        "\tprint('Feature %d: %f' % (i, SKB.scores_[i]))"
      ],
      "metadata": {
        "id": "lHdM1aIuMIop"
      },
      "execution_count": null,
      "outputs": []
    },
    {
      "cell_type": "markdown",
      "source": [
        "####Linear support vector machine"
      ],
      "metadata": {
        "id": "dx67MWEZx8-D"
      }
    },
    {
      "cell_type": "code",
      "source": [
        "param_grid = {'C': [0.01, 0.1, 1.0, 10.0, 100.0]}\n",
        "clf = LinearSVC(loss='hinge',random_state=1,class_weight=\"balanced\")"
      ],
      "metadata": {
        "id": "ietXlyYuN4LA"
      },
      "execution_count": null,
      "outputs": []
    },
    {
      "cell_type": "code",
      "source": [
        "grids = GridSearchCV(clf, param_grid,verbose=1,n_jobs=-1)\n",
        "grids = grids.fit(X_train_fs, y)\n",
        "print (\"Best parameters: %s\" % grids.best_params_)"
      ],
      "metadata": {
        "id": "-32AYf47rvEM"
      },
      "execution_count": null,
      "outputs": []
    },
    {
      "cell_type": "code",
      "source": [
        "predictions = grids.predict(X_test_fs)"
      ],
      "metadata": {
        "id": "RUMWk-ImVvNH"
      },
      "execution_count": null,
      "outputs": []
    },
    {
      "cell_type": "code",
      "source": [
        "def score_board_df(y_test,predictions,model_name,averaging_method='macro')-> pd.DataFrame:\n",
        "  f1 = \"%0.3f\" % f1_score(y_test, predictions,average=averaging_method)\n",
        "  prec = \"%0.3f\" % precision_score(y_test, predictions,average=averaging_method)\n",
        "  rec =\"%0.3f\" % recall_score(y_test, predictions,average=averaging_method)\n",
        "  acc = \"%0.3f\" % accuracy_score(y_test, predictions)\n",
        "  return pd.DataFrame({\"Classifier-name\":model_name,\"F-measure\":[f1],\"Precision\":[prec],\"Recall\":[rec],\"Accuracy\":[acc],\"Average-method\":averaging_method})\n"
      ],
      "metadata": {
        "id": "bL2m54Sk9ZXT"
      },
      "execution_count": null,
      "outputs": []
    },
    {
      "cell_type": "code",
      "source": [
        "score_board = score_board_df(y_t, predictions,\"LinearSVC\",'weighted')"
      ],
      "metadata": {
        "id": "M1vzeLFdNENs"
      },
      "execution_count": null,
      "outputs": []
    },
    {
      "cell_type": "code",
      "source": [
        "score_board"
      ],
      "metadata": {
        "id": "3QUW8E6cPN1R"
      },
      "execution_count": null,
      "outputs": []
    },
    {
      "cell_type": "code",
      "source": [
        "def conf_matrix(y_test, pred_test)-> pd.DataFrame:\n",
        "    # Creating a confusion matrix\n",
        "    con_mat = confusion_matrix(y_test, pred_test)\n",
        "    con_mat = pd.DataFrame(con_mat, range(-1,2), range(-1,2))\n",
        "\n",
        "    #Ploting the confusion matrix\n",
        "    plt.figure(figsize=(8,5))\n",
        "    sns.set(font_scale=1.5)\n",
        "    ax = sns.heatmap(con_mat, annot=True, annot_kws={\"size\": 16}, fmt='g', cmap='Blues', cbar=False)\n",
        "    ax.set_title('Confusion matrix')\n",
        "    return con_mat\n",
        ""
      ],
      "metadata": {
        "id": "9B6C0bTMzuSh"
      },
      "execution_count": null,
      "outputs": []
    },
    {
      "cell_type": "code",
      "source": [
        "_ = conf_matrix(y_t, predictions)"
      ],
      "metadata": {
        "id": "olGl2PBHz65e"
      },
      "execution_count": null,
      "outputs": []
    },
    {
      "cell_type": "code",
      "source": [],
      "metadata": {
        "id": "XGCSjFsMWYLt"
      },
      "execution_count": null,
      "outputs": []
    },
    {
      "cell_type": "code",
      "source": [],
      "metadata": {
        "id": "kE-yyKggPeKT"
      },
      "execution_count": null,
      "outputs": []
    },
    {
      "cell_type": "code",
      "source": [],
      "metadata": {
        "id": "taCoJB1kUNG5"
      },
      "execution_count": null,
      "outputs": []
    },
    {
      "cell_type": "markdown",
      "source": [],
      "metadata": {
        "id": "qSzNi5CNJkKW"
      }
    }
  ]
}