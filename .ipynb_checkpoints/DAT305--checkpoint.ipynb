{
 "cells": [
  {
   "cell_type": "code",
   "execution_count": 12,
   "metadata": {
    "colab": {
     "base_uri": "https://localhost:8080/"
    },
    "id": "eTyi3CDtnpYI",
    "outputId": "ab334432-8e76-4995-85a6-552c346108b6",
    "scrolled": true
   },
   "outputs": [
    {
     "ename": "ModuleNotFoundError",
     "evalue": "No module named 'sklearn'",
     "output_type": "error",
     "traceback": [
      "\u001b[0;31m---------------------------------------------------------------------------\u001b[0m",
      "\u001b[0;31mModuleNotFoundError\u001b[0m                       Traceback (most recent call last)",
      "Cell \u001b[0;32mIn[12], line 8\u001b[0m\n\u001b[1;32m      6\u001b[0m \u001b[38;5;28;01mimport\u001b[39;00m \u001b[38;5;21;01mseaborn\u001b[39;00m \u001b[38;5;28;01mas\u001b[39;00m \u001b[38;5;21;01msns\u001b[39;00m\n\u001b[1;32m      7\u001b[0m \u001b[38;5;28;01mimport\u001b[39;00m \u001b[38;5;21;01mnumpy\u001b[39;00m \u001b[38;5;28;01mas\u001b[39;00m \u001b[38;5;21;01mnp\u001b[39;00m\n\u001b[0;32m----> 8\u001b[0m \u001b[38;5;28;01mimport\u001b[39;00m \u001b[38;5;21;01msklearn\u001b[39;00m\n\u001b[1;32m      9\u001b[0m \u001b[38;5;28;01mimport\u001b[39;00m \u001b[38;5;21;01mstring\u001b[39;00m\n\u001b[1;32m     10\u001b[0m \u001b[38;5;28;01mimport\u001b[39;00m \u001b[38;5;21;01mre\u001b[39;00m\n",
      "\u001b[0;31mModuleNotFoundError\u001b[0m: No module named 'sklearn'"
     ]
    }
   ],
   "source": [
    "import sys\n",
    "import pandas as pd\n",
    "pd.options.mode.chained_assignment = None\n",
    "import matplotlib.pyplot as plt\n",
    "from matplotlib.patches import ConnectionPatch\n",
    "import seaborn as sns\n",
    "import numpy as np\n",
    "import sklearn\n",
    "import string\n",
    "import re\n",
    "import nltk\n",
    "import tensorflow as tf\n",
    "from collections import Counter\n",
    "from tensorflow import keras\n",
    "from sklearn.linear_model import Perceptron\n",
    "from sklearn.model_selection import train_test_split\n",
    "from sklearn.preprocessing import LabelEncoder,OneHotEncoder\n",
    "from sklearn.feature_extraction.text import TfidfVectorizer\n",
    "from sklearn.utils import class_weight\n",
    "from keras.utils import pad_sequences,to_categorical\n",
    "from sklearn.feature_selection import SelectKBest,chi2\n",
    "from sklearn.metrics import accuracy_score,f1_score,roc_auc_score,confusion_matrix,precision_score,recall_score,classification_report,roc_curve\n",
    "from datetime import datetime\n",
    "nltk.download('punkt')\n",
    "nltk.download('stopwords')\n",
    "from nltk.corpus import stopwords\n",
    "from nltk.tokenize import word_tokenize\n",
    "from nltk.stem import PorterStemmer\n",
    "from nltk.tokenize import TweetTokenizer\n",
    "from google.colab import files,drive\n",
    "from wordcloud import WordCloud, STOPWORDS\n",
    "from sklearn.svm import LinearSVC,SVC\n",
    "from sklearn.model_selection import GridSearchCV,StratifiedKFold\n",
    "import warnings\n",
    "warnings.filterwarnings(action=\"ignore\", message=\"^internal gelsd\")\n",
    "print(\"Running Panda Version:\"+pd.__version__)\n",
    "print(\"Running TensorFlow Version:\"+ tf.__version__)\n",
    "print(\"Running Keras API Version:\"+ keras.__version__)\n",
    "print(\"Running Python {0}.{1}\".format(sys.version_info[:2][0],sys.version_info[:2][1]))"
   ]
  },
  {
   "cell_type": "code",
   "execution_count": 13,
   "metadata": {},
   "outputs": [
    {
     "name": "stdout",
     "output_type": "stream",
     "text": [
      "Defaulting to user installation because normal site-packages is not writeable\n",
      "Collecting sklearn\n",
      "  Downloading sklearn-0.0.post12.tar.gz (2.6 kB)\n",
      "  Preparing metadata (setup.py) ... \u001b[?25lerror\n",
      "  \u001b[1;31merror\u001b[0m: \u001b[1msubprocess-exited-with-error\u001b[0m\n",
      "  \n",
      "  \u001b[31m×\u001b[0m \u001b[32mpython setup.py egg_info\u001b[0m did not run successfully.\n",
      "  \u001b[31m│\u001b[0m exit code: \u001b[1;36m1\u001b[0m\n",
      "  \u001b[31m╰─>\u001b[0m \u001b[31m[15 lines of output]\u001b[0m\n",
      "  \u001b[31m   \u001b[0m The 'sklearn' PyPI package is deprecated, use 'scikit-learn'\n",
      "  \u001b[31m   \u001b[0m rather than 'sklearn' for pip commands.\n",
      "  \u001b[31m   \u001b[0m \n",
      "  \u001b[31m   \u001b[0m Here is how to fix this error in the main use cases:\n",
      "  \u001b[31m   \u001b[0m - use 'pip install scikit-learn' rather than 'pip install sklearn'\n",
      "  \u001b[31m   \u001b[0m - replace 'sklearn' by 'scikit-learn' in your pip requirements files\n",
      "  \u001b[31m   \u001b[0m   (requirements.txt, setup.py, setup.cfg, Pipfile, etc ...)\n",
      "  \u001b[31m   \u001b[0m - if the 'sklearn' package is used by one of your dependencies,\n",
      "  \u001b[31m   \u001b[0m   it would be great if you take some time to track which package uses\n",
      "  \u001b[31m   \u001b[0m   'sklearn' instead of 'scikit-learn' and report it to their issue tracker\n",
      "  \u001b[31m   \u001b[0m - as a last resort, set the environment variable\n",
      "  \u001b[31m   \u001b[0m   SKLEARN_ALLOW_DEPRECATED_SKLEARN_PACKAGE_INSTALL=True to avoid this error\n",
      "  \u001b[31m   \u001b[0m \n",
      "  \u001b[31m   \u001b[0m More information is available at\n",
      "  \u001b[31m   \u001b[0m https://github.com/scikit-learn/sklearn-pypi-package\n",
      "  \u001b[31m   \u001b[0m \u001b[31m[end of output]\u001b[0m\n",
      "  \n",
      "  \u001b[1;35mnote\u001b[0m: This error originates from a subprocess, and is likely not a problem with pip.\n",
      "\u001b[1;31merror\u001b[0m: \u001b[1mmetadata-generation-failed\u001b[0m\n",
      "\n",
      "\u001b[31m×\u001b[0m Encountered error while generating package metadata.\n",
      "\u001b[31m╰─>\u001b[0m See above for output.\n",
      "\n",
      "\u001b[1;35mnote\u001b[0m: This is an issue with the package mentioned above, not pip.\n",
      "\u001b[1;36mhint\u001b[0m: See above for details.\n",
      "\u001b[?25h"
     ]
    }
   ],
   "source": [
    "!pip install sklearn --break-system-packages"
   ]
  },
  {
   "cell_type": "code",
   "execution_count": null,
   "metadata": {
    "id": "mmhMulXypzdL"
   },
   "outputs": [],
   "source": [
    "seed = 0\n",
    "tf.keras.utils.set_random_seed(seed)"
   ]
  },
  {
   "cell_type": "code",
   "execution_count": null,
   "metadata": {
    "colab": {
     "base_uri": "https://localhost:8080/",
     "height": 73
    },
    "id": "3ELwau-EubKs",
    "outputId": "2a0195b7-ac4b-47f8-f6c7-17b673563590"
   },
   "outputs": [],
   "source": [
    "uploaded = files.upload()"
   ]
  },
  {
   "cell_type": "markdown",
   "metadata": {
    "id": "e8Ovgdgso4rM"
   },
   "source": [
    "# ***Exploratory Data Analysis***"
   ]
  },
  {
   "cell_type": "code",
   "execution_count": null,
   "metadata": {
    "id": "DZFDTjxQrTXu"
   },
   "outputs": [],
   "source": [
    "dataset = pd.read_csv(\"Tweets.csv\",na_values=['NA'], low_memory=False)"
   ]
  },
  {
   "cell_type": "markdown",
   "metadata": {
    "id": "8OM1endSpH0h"
   },
   "source": [
    "### Dataset shapes"
   ]
  },
  {
   "cell_type": "code",
   "execution_count": null,
   "metadata": {
    "colab": {
     "base_uri": "https://localhost:8080/"
    },
    "id": "Bs_ygXkbrwYY",
    "outputId": "a2f6b327-7f70-4b7b-ec9c-93d3b9f61e40"
   },
   "outputs": [],
   "source": [
    "print('Dataset structure: rows =',dataset.shape[0], ' - columns =',dataset.shape[1])"
   ]
  },
  {
   "cell_type": "markdown",
   "metadata": {
    "id": "9RiSYvKMpXGn"
   },
   "source": [
    "##### Some random rows"
   ]
  },
  {
   "cell_type": "code",
   "execution_count": null,
   "metadata": {
    "colab": {
     "base_uri": "https://localhost:8080/",
     "height": 320
    },
    "id": "nTjexsWEswjn",
    "outputId": "14a1ed11-e9d1-4bf5-c794-43214be28ea7"
   },
   "outputs": [],
   "source": [
    "dataset.sample(3)"
   ]
  },
  {
   "cell_type": "markdown",
   "metadata": {
    "id": "HLW_avz9pjD1"
   },
   "source": [
    "###  Descriptive statistics for the dataset"
   ]
  },
  {
   "cell_type": "code",
   "execution_count": null,
   "metadata": {
    "colab": {
     "base_uri": "https://localhost:8080/",
     "height": 572
    },
    "id": "E5e3QBku8-9i",
    "outputId": "1db146da-74cf-45f0-9988-9a6692be4a6f"
   },
   "outputs": [],
   "source": [
    "print('Dataset Features types:')\n",
    "dataset.dtypes"
   ]
  },
  {
   "cell_type": "code",
   "execution_count": null,
   "metadata": {
    "colab": {
     "base_uri": "https://localhost:8080/"
    },
    "id": "DUC0lie6gYMr",
    "outputId": "f56e3db3-a1b3-4b70-bc29-1ffa26a87bd0"
   },
   "outputs": [],
   "source": [
    "print(\"List of names of columns:\\n\")\n",
    "print('-'*50)\n",
    "dataset.columns.tolist()"
   ]
  },
  {
   "cell_type": "code",
   "execution_count": null,
   "metadata": {
    "colab": {
     "base_uri": "https://localhost:8080/",
     "height": 192
    },
    "id": "mD_evEJcpK-S",
    "outputId": "842cbabf-7790-4af8-d63c-ebe8e7c305c8"
   },
   "outputs": [],
   "source": [
    "print('Descriptive Statistics for numeric features on Dataset')\n",
    "dataset.describe(include=np.number).T"
   ]
  },
  {
   "cell_type": "code",
   "execution_count": null,
   "metadata": {
    "colab": {
     "base_uri": "https://localhost:8080/",
     "height": 244
    },
    "id": "-rz8Kk3kqfL2",
    "outputId": "6bbd8157-55c6-456c-a234-027abd2ccae0"
   },
   "outputs": [],
   "source": [
    "print('Range for numeric features on Dataset')\n",
    "print('-'*40)\n",
    "dataset.max(numeric_only=True) - dataset.min(numeric_only=True)"
   ]
  },
  {
   "cell_type": "code",
   "execution_count": null,
   "metadata": {
    "colab": {
     "base_uri": "https://localhost:8080/"
    },
    "id": "HNCt18ttuWtV",
    "outputId": "75df54b0-8057-46e7-988e-c842438d0111"
   },
   "outputs": [],
   "source": [
    "dataset.info()"
   ]
  },
  {
   "cell_type": "code",
   "execution_count": null,
   "metadata": {
    "colab": {
     "base_uri": "https://localhost:8080/",
     "height": 412
    },
    "id": "sc1ImSiy-nV6",
    "outputId": "aad6cca6-80b2-40ad-ae3a-335c9c0defc2"
   },
   "outputs": [],
   "source": [
    "print('Descriptive Statistics for categorical features on Dataset')\n",
    "dataset.describe(include='O').T"
   ]
  },
  {
   "cell_type": "code",
   "execution_count": null,
   "metadata": {
    "colab": {
     "base_uri": "https://localhost:8080/"
    },
    "id": "Qao_aVs-u7TV",
    "outputId": "ea18edb9-2fef-4e65-a624-55e5b284c1f1"
   },
   "outputs": [],
   "source": [
    "print('Number of classes: ',len(dataset.airline_sentiment.unique().tolist()))"
   ]
  },
  {
   "cell_type": "code",
   "execution_count": null,
   "metadata": {
    "colab": {
     "base_uri": "https://localhost:8080/"
    },
    "id": "xk9QMXm0vSM_",
    "outputId": "8c05c91e-c8f6-4e74-ebca-c79b3299aa90"
   },
   "outputs": [],
   "source": [
    "print('Name of classes (y): ',dataset.airline_sentiment.unique().tolist())"
   ]
  },
  {
   "cell_type": "code",
   "execution_count": null,
   "metadata": {
    "colab": {
     "base_uri": "https://localhost:8080/"
    },
    "id": "mdNbpA-J1bm3",
    "outputId": "797155ae-6864-40b0-ceb4-774da541ee69"
   },
   "outputs": [],
   "source": [
    "print('Check for duplicates?',dataset.duplicated().any())\n",
    "print('-'*70)\n",
    "print('Sum of duplicated rows :',dataset.duplicated().sum())"
   ]
  },
  {
   "cell_type": "code",
   "execution_count": null,
   "metadata": {
    "colab": {
     "base_uri": "https://localhost:8080/"
    },
    "id": "Z24Pp3An2SCG",
    "outputId": "0e625da4-2732-461d-edbc-b2611fbf27aa"
   },
   "outputs": [],
   "source": [
    "print('Check for missing values ',dataset.isnull().any().any())\n",
    "print('-'*70)\n",
    "print('Sum of Missing values accross columns\\n',dataset.isnull().sum())\n",
    "print('-'*70)\n",
    "print(\"Sum of missing values\",sum(dataset.isnull().sum()))"
   ]
  },
  {
   "cell_type": "code",
   "execution_count": null,
   "metadata": {
    "colab": {
     "base_uri": "https://localhost:8080/",
     "height": 302
    },
    "id": "DuEsgNY3VAZw",
    "outputId": "50a01125-29de-4bae-e7eb-ec51c7e157ed"
   },
   "outputs": [],
   "source": [
    "missing_data=dataset[dataset.isnull().any(axis=1)]\n",
    "missing_data.head(3)"
   ]
  },
  {
   "cell_type": "code",
   "execution_count": null,
   "metadata": {
    "colab": {
     "base_uri": "https://localhost:8080/",
     "height": 210
    },
    "id": "dzPGu2FF6eRH",
    "outputId": "1b31423c-2629-47b1-9378-e47b5c2a1283"
   },
   "outputs": [],
   "source": [
    "dataset.airline_sentiment.value_counts()"
   ]
  },
  {
   "cell_type": "markdown",
   "metadata": {
    "id": "7dJ_lBOdCSSp"
   },
   "source": [
    "#### Data imbalance, more negative and neutral sentiment than positive."
   ]
  },
  {
   "cell_type": "code",
   "execution_count": null,
   "metadata": {
    "colab": {
     "base_uri": "https://localhost:8080/"
    },
    "id": "8TIEDzCm7HyJ",
    "outputId": "ef49e730-0f21-40d0-91d9-91edd802af09"
   },
   "outputs": [],
   "source": [
    "list_of_airlines =dataset.airline.unique().tolist()\n",
    "print('list of airlines: ',list_of_airlines)"
   ]
  },
  {
   "cell_type": "code",
   "execution_count": null,
   "metadata": {
    "colab": {
     "base_uri": "https://localhost:8080/"
    },
    "id": "kFelhzwt7qn_",
    "outputId": "c72a8297-1d44-41c8-d917-6774ada73d72"
   },
   "outputs": [],
   "source": [
    "print(\"Time of first tweet in the dataset:\",dataset.tweet_created.min())\n",
    "print('-'*70)\n",
    "print(\"Time of last tweet in the dataset:\",dataset.tweet_created.max())"
   ]
  },
  {
   "cell_type": "code",
   "execution_count": null,
   "metadata": {
    "colab": {
     "base_uri": "https://localhost:8080/"
    },
    "id": "FIuO3LJ78gze",
    "outputId": "ef60e943-28e9-42b1-befd-434b845606cd"
   },
   "outputs": [],
   "source": [
    "print(\"Airlines with tweet count\\n\", dataset.airline.value_counts())"
   ]
  },
  {
   "cell_type": "code",
   "execution_count": null,
   "metadata": {
    "colab": {
     "base_uri": "https://localhost:8080/",
     "height": 715
    },
    "id": "SIy9n1c7C71A",
    "outputId": "f8c01420-c762-45cd-a40f-e04c8fb91642"
   },
   "outputs": [],
   "source": [
    "print(\"Tweets frequencies grouped by sentiments for the airlines\")\n",
    "print('-'*80)\n",
    "airlines_sentiments_groups = dataset.groupby(\"airline\", group_keys=True)[['airline_sentiment']].value_counts()\n",
    "airlines_sentiments_groups"
   ]
  },
  {
   "cell_type": "code",
   "execution_count": null,
   "metadata": {
    "colab": {
     "base_uri": "https://localhost:8080/"
    },
    "id": "CGYpbqNFQDHC",
    "outputId": "6b0fa96c-2414-421a-902c-e551028f9c06"
   },
   "outputs": [],
   "source": [
    "print(\"Maximum tweet confidence\",dataset.airline_sentiment_confidence.max())\n",
    "print('-'*80)\n",
    "print(\"Minimum tweet confidence\",dataset.airline_sentiment_confidence.min())"
   ]
  },
  {
   "cell_type": "code",
   "execution_count": null,
   "metadata": {
    "colab": {
     "base_uri": "https://localhost:8080/"
    },
    "id": "bYo1n2IF_izI",
    "outputId": "e1ef4c2d-0bd5-4d45-e9b9-fae949245e0e"
   },
   "outputs": [],
   "source": [
    "print(dataset.airline_sentiment_confidence.quantile([0,0.25,0.50,0.75,1]))"
   ]
  },
  {
   "cell_type": "markdown",
   "metadata": {
    "id": "mEy5oCB4AUKN"
   },
   "source": [
    "####25 percent quantile for sentiment confidence is 0.65, which means that 25 percent of the dataset values for this measure is less than 0.65."
   ]
  },
  {
   "cell_type": "code",
   "execution_count": null,
   "metadata": {
    "id": "aT1uJd5TjFiN"
   },
   "outputs": [],
   "source": [
    "dataset['negativereason'] =  dataset['negativereason'].fillna('N/A')"
   ]
  },
  {
   "cell_type": "code",
   "execution_count": null,
   "metadata": {
    "colab": {
     "base_uri": "https://localhost:8080/",
     "height": 1000
    },
    "id": "KnqtVecngOA3",
    "outputId": "c2755eaa-7c19-4493-ab02-40857abfa1c1"
   },
   "outputs": [],
   "source": [
    "dataset[dataset['negativereason'] != 'N/A'].groupby(\"airline\", group_keys=True)[['negativereason']].value_counts()"
   ]
  },
  {
   "cell_type": "markdown",
   "metadata": {
    "id": "XOzR4obRz0nf"
   },
   "source": []
  },
  {
   "cell_type": "markdown",
   "metadata": {
    "id": "hOKHHXdzz0qR"
   },
   "source": [
    "##### Highest retweet"
   ]
  },
  {
   "cell_type": "code",
   "execution_count": null,
   "metadata": {
    "colab": {
     "base_uri": "https://localhost:8080/",
     "height": 210
    },
    "id": "TEy6ZrzrlDbs",
    "outputId": "fe675a9d-dbf3-46e6-867f-464c1f71439a"
   },
   "outputs": [],
   "source": [
    "dataset[['text','airline','name','airline_sentiment']].loc[dataset['retweet_count'].max()]"
   ]
  },
  {
   "cell_type": "code",
   "execution_count": null,
   "metadata": {
    "id": "IhwFLX1aoOQB"
   },
   "outputs": [],
   "source": []
  },
  {
   "cell_type": "markdown",
   "metadata": {
    "id": "Ido_MdIODKz9"
   },
   "source": []
  },
  {
   "cell_type": "markdown",
   "metadata": {
    "id": "-PRu1wA1qAly"
   },
   "source": [
    "## Data visualization (Multivariate analysis)."
   ]
  },
  {
   "cell_type": "code",
   "execution_count": null,
   "metadata": {
    "colab": {
     "base_uri": "https://localhost:8080/"
    },
    "id": "LRaWMxQ3jHYi",
    "outputId": "1e9b6b6b-5f11-4426-b944-3fcff7ef0ede"
   },
   "outputs": [],
   "source": [
    "target_classes,tweet_freq = np.unique(dataset.airline_sentiment,return_counts=True)\n",
    "print(target_classes,tweet_freq)"
   ]
  },
  {
   "cell_type": "code",
   "execution_count": null,
   "metadata": {
    "id": "SsR7ksWZUUdL"
   },
   "outputs": [],
   "source": [
    "def func(pct, allvals)->str:\n",
    "    absolute = int(np.round(pct/100.*np.sum(allvals)))\n",
    "    return f\"{pct:.1f}%\\n ({absolute:d})\""
   ]
  },
  {
   "cell_type": "code",
   "execution_count": null,
   "metadata": {
    "colab": {
     "base_uri": "https://localhost:8080/",
     "height": 680
    },
    "id": "cvd1Pq245qJp",
    "outputId": "af2ca3dd-18b5-412d-dc09-a07968250ee0"
   },
   "outputs": [],
   "source": [
    "# make figure and assign axis objects\n",
    "fig, (ax1,ax2,ax3) = plt.subplots(1, 3, figsize=(20, 8))\n",
    "fig.subplots_adjust(wspace=0)\n",
    "\n",
    "# pie chart parameters\n",
    "overall_ratios = tweet_freq\n",
    "labels = target_classes\n",
    "explode = [0.1, 0, 0]\n",
    "colors =['c','y','g']\n",
    "# rotate so that first wedge is split by the x-axis\n",
    "angle = -272 * overall_ratios[2]\n",
    "wedges, *_ = ax1.pie(overall_ratios, autopct=lambda pct: func(pct, overall_ratios),shadow=True,labels=labels, explode=explode,colors=colors,startangle=angle)\n",
    "\n",
    "# bar chart parameters\n",
    "negative_sentiment_ratios =[airlines_sentiments_groups[x]['negative'] for x in list_of_airlines]\n",
    "bottom = 5\n",
    "width = .2\n",
    "\n",
    "# Adding from the top matches the legend.\n",
    "for j, (height, label) in enumerate(reversed([*zip(negative_sentiment_ratios, list_of_airlines)])):\n",
    "    bottom -= height\n",
    "    bc = ax2.bar(0, height, width, bottom=bottom, color='C0', label=label,alpha=0.1 + 0.17 * j)\n",
    "    ax2.bar_label(bc, labels=[height], label_type='center')\n",
    "\n",
    "ax2.legend(loc=3)\n",
    "ax2.set_title('Negative sentiments count per airline')\n",
    "ax2.axis('off')\n",
    "ax2.set_xlim(- 3.5 * width, 3.5 * width)\n",
    "\n",
    "# use ConnectionPatch to draw lines between the two plots\n",
    "theta1, theta2 = wedges[0].theta1, wedges[0].theta2\n",
    "center, r = wedges[0].center, wedges[0].r\n",
    "bar_height = sum(negative_sentiment_ratios)\n",
    "\n",
    "# draw top connecting line\n",
    "x = r * np.cos(np.pi / 180 * theta2) + center[0]\n",
    "y = r * np.sin(np.pi / 180 * theta2) + center[1]\n",
    "con = ConnectionPatch(xyA=(-width / 2, 0), coordsA=ax2.transData,\n",
    "                      xyB=(x, y), coordsB=ax1.transData)\n",
    "con.set_color([0, 0, 0])\n",
    "con.set_linewidth(1)\n",
    "ax2.add_artist(con)\n",
    "\n",
    "# draw bottom connecting line\n",
    "x = r * np.cos(np.pi / 180 * theta1) + center[0]\n",
    "y = r * np.sin(np.pi / 180 * theta1) + center[1]\n",
    "con = ConnectionPatch(xyA=(-width / 2, -bar_height), coordsA=ax2.transData,xyB=(x, y), coordsB=ax1.transData)\n",
    "con.set_color([0, 0, 0])\n",
    "ax2.add_artist(con)\n",
    "con.set_linewidth(1)\n",
    "\n",
    "ax3 = sns.countplot(x=\"airline\", hue=\"airline_sentiment\", data=dataset)\n",
    "ax3.set_xlabel('')\n",
    "ax3.set_ylabel('Number of Tweets')\n",
    "ax3.set_title('Tweets per airline within Training Dataset')\n",
    "\n",
    "\n",
    "plt.show()\n",
    "del ax1,ax2,ax3"
   ]
  },
  {
   "cell_type": "markdown",
   "metadata": {
    "id": "HH4orQCMTYWc"
   },
   "source": [
    "##### Date decomposition (feature creation)."
   ]
  },
  {
   "cell_type": "code",
   "execution_count": null,
   "metadata": {
    "id": "vxqoyZYq5qUU"
   },
   "outputs": [],
   "source": [
    "def decode_date(date_str)-> pd.Series:\n",
    "  aux = date_str.replace(' -0800','')\n",
    "  date_utc = datetime.strptime(aux,\"%Y-%m-%d %H:%M:%S\")\n",
    "  return pd.Series([date_utc.weekday(),date_utc.day,date_utc.hour])"
   ]
  },
  {
   "cell_type": "code",
   "execution_count": null,
   "metadata": {
    "id": "IdF8dmsQT6PX"
   },
   "outputs": [],
   "source": [
    "dataset[['week_day','day','hour']] = dataset.pop('tweet_created').apply(decode_date)"
   ]
  },
  {
   "cell_type": "code",
   "execution_count": null,
   "metadata": {
    "colab": {
     "base_uri": "https://localhost:8080/",
     "height": 302
    },
    "id": "Lwsc76ilUIZ_",
    "outputId": "37519ae5-7b5a-4004-f107-3a7abff4ffb8"
   },
   "outputs": [],
   "source": [
    "dataset.head(3)"
   ]
  },
  {
   "cell_type": "code",
   "execution_count": null,
   "metadata": {
    "colab": {
     "base_uri": "https://localhost:8080/",
     "height": 718
    },
    "id": "ujOnD1D3UpB3",
    "outputId": "f069bdf4-7c96-47d4-d552-279b3e16b2b9"
   },
   "outputs": [],
   "source": [
    "fig, axes = plt.subplots(figsize=(12,8))\n",
    "ax = sns.countplot(x=\"day\", hue=\"airline_sentiment\", data=dataset)\n",
    "ax.set_xlabel('Day')\n",
    "ax.set_ylabel('Number of Tweets')\n",
    "ax.set_title('Daily AirLine Tweets Distribution within a month')\n",
    "del ax,fig,axes"
   ]
  },
  {
   "cell_type": "code",
   "execution_count": null,
   "metadata": {
    "colab": {
     "base_uri": "https://localhost:8080/",
     "height": 753
    },
    "id": "VGA4GigGXDHJ",
    "outputId": "ffb37907-009f-40e5-cdef-d839d4c594f7"
   },
   "outputs": [],
   "source": [
    "fig, axes = plt.subplots(figsize=(12,8))\n",
    "ax = sns.countplot(x=\"week_day\", hue=\"airline_sentiment\", data=dataset)\n",
    "ax.set_xlabel('Week day')\n",
    "ax.set(xticklabels=['Monday','Tuesday','Wednesday','Thursday','Friday','Saturday','Sunday'])\n",
    "ax.set_ylabel('Number of Tweets')\n",
    "ax.set_title('Daily AirLine Tweets Distribution within a week')\n",
    "del ax,fig,axes"
   ]
  },
  {
   "cell_type": "code",
   "execution_count": null,
   "metadata": {
    "colab": {
     "base_uri": "https://localhost:8080/",
     "height": 718
    },
    "id": "jQIgAbePXwYj",
    "outputId": "28b35532-0a39-492a-c7b9-340fef188928"
   },
   "outputs": [],
   "source": [
    "fig, axes = plt.subplots(figsize=(12,8))\n",
    "ax = sns.countplot(x=\"hour\", hue=\"airline_sentiment\", data=dataset)\n",
    "ax.set_xlabel('Hour')\n",
    "ax.set_ylabel('Number of Tweets')\n",
    "ax.set_title('Tweets Distribution within 24hrs')\n",
    "del ax,fig,axes"
   ]
  },
  {
   "cell_type": "markdown",
   "metadata": {
    "id": "9i4jEFE4pvUB"
   },
   "source": [
    "### Top 20 tweet authors"
   ]
  },
  {
   "cell_type": "code",
   "execution_count": null,
   "metadata": {
    "colab": {
     "base_uri": "https://localhost:8080/",
     "height": 694
    },
    "id": "kn_FfMDKoDnC",
    "outputId": "b47419f2-5983-469a-b6c1-9c817db064ce"
   },
   "outputs": [],
   "source": [
    "top_tweeter = Counter([name for name in dataset['name']])\n",
    "top_tweeter_df = pd.DataFrame(top_tweeter.most_common(20))\n",
    "top_tweeter_df.columns = ['top_tweet_authors','count']\n",
    "print(\"Top 20 Authors\",'-'*15)\n",
    "top_tweeter_df.style.background_gradient(cmap='inferno')"
   ]
  },
  {
   "cell_type": "markdown",
   "metadata": {
    "id": "U_FjHO2UL6lm"
   },
   "source": [
    "### Top reasons for complain."
   ]
  },
  {
   "cell_type": "code",
   "execution_count": null,
   "metadata": {
    "colab": {
     "base_uri": "https://localhost:8080/",
     "height": 380
    },
    "id": "Nxac_IGIL5Uu",
    "outputId": "2779c8f4-2feb-40fc-d325-c2afe4c455c8"
   },
   "outputs": [],
   "source": [
    "top_complain = Counter([reason for reason in dataset[dataset['negativereason'] != 'N/A']['negativereason']])\n",
    "top_complain_df = pd.DataFrame(top_complain.most_common(10))\n",
    "top_complain_df.columns = ['top_complain_reason','count']\n",
    "print(\"Top 10 complain\",'-'*15)\n",
    "top_complain_df.style.background_gradient(cmap='inferno')"
   ]
  },
  {
   "cell_type": "markdown",
   "metadata": {
    "id": "F8nFcGgfkx4E"
   },
   "source": [
    "### Data preprocessing, feature engineering."
   ]
  },
  {
   "cell_type": "code",
   "execution_count": null,
   "metadata": {
    "id": "eZS7DRltkiSj"
   },
   "outputs": [],
   "source": [
    "#For removing user tags(@user)\n",
    "def remove_user_tags(tweet:str)->tuple[str,int]:\n",
    "    user = re.compile(r'@\\S+')\n",
    "    initial = len(tweet)\n",
    "    text = user.sub(r'',tweet)\n",
    "    result = ''.join([i for i in text if not i.isdigit()])\n",
    "    final = len(result)\n",
    "    number = 0\n",
    "    for i in text:\n",
    "      if i.isdigit():\n",
    "        number+=1\n",
    "    if( final == initial - number):\n",
    "      return (result,0)\n",
    "    else:\n",
    "      return (result,1)\n",
    "\n",
    "#For removing Url links\n",
    "def remove_url(tweet:str)->tuple[str,int]:\n",
    "    url = re.compile(r'https?://\\S+|www\\.\\S+')\n",
    "    initial = len(tweet)\n",
    "    text = url.sub(r'',tweet,re.IGNORECASE)\n",
    "    result = ''.join([i for i in text if not i.isdigit()])\n",
    "    final = len(result)\n",
    "    number = 0\n",
    "    for i in text:\n",
    "      if i.isdigit():\n",
    "        number += 1\n",
    "    if( final == initial - number):\n",
    "      return (result,0)\n",
    "    else:\n",
    "      return (result,1)"
   ]
  },
  {
   "cell_type": "code",
   "execution_count": null,
   "metadata": {
    "id": "C5aSjl48v-l0"
   },
   "outputs": [],
   "source": [
    "def clean_and_create_feature(tweet:str)-> pd.Series:\n",
    "    (str_without_tags,tag_flag) = remove_user_tags(tweet)\n",
    "    (str_without_links,url_flag) = remove_url(str_without_tags)\n",
    "    return pd.Series([str_without_links,tag_flag,url_flag])"
   ]
  },
  {
   "cell_type": "code",
   "execution_count": null,
   "metadata": {
    "id": "qQ8OMsu_x6Sb"
   },
   "outputs": [],
   "source": [
    "dataset[['text','user_tag','url_flag']] = dataset.apply(lambda x: clean_and_create_feature(x.text),axis=1)"
   ]
  },
  {
   "cell_type": "code",
   "execution_count": null,
   "metadata": {
    "colab": {
     "base_uri": "https://localhost:8080/",
     "height": 320
    },
    "id": "dt23NYL-rfd8",
    "outputId": "01f85153-8cb2-45e6-c718-58510ef2ed32"
   },
   "outputs": [],
   "source": [
    "dataset.head(3)"
   ]
  },
  {
   "cell_type": "code",
   "execution_count": null,
   "metadata": {
    "colab": {
     "base_uri": "https://localhost:8080/"
    },
    "id": "FMu00OXLgtk_",
    "outputId": "8853cf04-2154-499c-ba13-8a5a063930d4"
   },
   "outputs": [],
   "source": [
    "print(dataset.groupby(\"airline_sentiment\", group_keys=True)[['user_tag']].value_counts())\n",
    "print('-'*50)\n",
    "print(dataset.groupby(\"airline_sentiment\", group_keys=True)[['url_flag']].value_counts())"
   ]
  },
  {
   "cell_type": "code",
   "execution_count": null,
   "metadata": {
    "colab": {
     "base_uri": "https://localhost:8080/",
     "height": 734
    },
    "id": "E6OTEbLalmfq",
    "outputId": "b97b43a3-f284-45c5-e9d2-4baa27c70439"
   },
   "outputs": [],
   "source": [
    "f, axes = plt.subplots(figsize=(12,8))\n",
    "ax = sns.countplot(x=\"user_tag\", hue=\"airline_sentiment\", data=dataset)\n",
    "ax.set(xticklabels=['With mension tag'])\n",
    "ax.set_xlabel('')\n",
    "ax.set_ylabel('Number of Tweets')\n",
    "ax.set_title('Tweets with User tag distribution within the dataset')\n",
    "del ax,f,axes"
   ]
  },
  {
   "cell_type": "code",
   "execution_count": null,
   "metadata": {
    "colab": {
     "base_uri": "https://localhost:8080/",
     "height": 734
    },
    "id": "Fd887QQgAWwX",
    "outputId": "3d0780b8-787d-494f-ba26-df965915364a"
   },
   "outputs": [],
   "source": [
    "f, axes = plt.subplots(figsize=(12, 8))\n",
    "ax = sns.countplot(x=\"url_flag\",hue=\"airline_sentiment\", data=dataset)\n",
    "ax.set(xticklabels=['Without URL','With URL'])\n",
    "ax.set_xlabel('')\n",
    "ax.set_ylabel('Number of Tweets')\n",
    "ax.set_title('Tweets with URL distribution within the dataset')\n",
    "del ax,f,axes"
   ]
  },
  {
   "cell_type": "code",
   "execution_count": null,
   "metadata": {
    "id": "FbyHwmjWsbbP"
   },
   "outputs": [],
   "source": [
    "def happy_emoticons_removal(tweet:str) ->tuple[str,int]:\n",
    "    happy = re.compile(r\"([xX;:]-?[dDpP)])\")\n",
    "    initial = len(tweet)\n",
    "    text = happy.sub(r'',tweet)\n",
    "    result = ''.join([i for i in text if not i.isdigit()])\n",
    "    final = len(result)\n",
    "    number = 0\n",
    "    for i in text:\n",
    "      if i.isdigit():\n",
    "        number += 1\n",
    "    if( final != initial - number):\n",
    "      return (result,1)\n",
    "    return (result,0)\n",
    "\n",
    "def sad_emoticons_removal(tweet:str) ->tuple[str,int]:\n",
    "    sad = re.compile(r\"[:;](['\\\"]?[-~]?[/(\\|C<>{}\\[]+)\")\n",
    "    initial = len(tweet)\n",
    "    text = sad.sub(r'',tweet)\n",
    "    result = ''.join([i for i in text if not i.isdigit()])\n",
    "    final = len(result)\n",
    "    number = 0\n",
    "    for i in text:\n",
    "      if i.isdigit():\n",
    "        number += 1\n",
    "    if( final != initial - number):\n",
    "      return (result,1)\n",
    "    return (result,0)\n"
   ]
  },
  {
   "cell_type": "code",
   "execution_count": null,
   "metadata": {
    "id": "3GPUWgMbsqXM"
   },
   "outputs": [],
   "source": [
    "def emoticon_removal_and_feature_creation(tweet:str)-> pd.Series:\n",
    "  (str_without_happy_emoji,happy_emoji_flag) = happy_emoticons_removal(tweet)\n",
    "  (str_without_emoji,sad_emoji_flag) = sad_emoticons_removal(str_without_happy_emoji)\n",
    "  return pd.Series([str_without_emoji,happy_emoji_flag,sad_emoji_flag])"
   ]
  },
  {
   "cell_type": "code",
   "execution_count": null,
   "metadata": {
    "id": "Fb7sno6BsqzK"
   },
   "outputs": [],
   "source": [
    "dataset[['text','happy_emoji','sad_emoji']] = dataset.apply(lambda x: emoticon_removal_and_feature_creation(x.text),axis=1)"
   ]
  },
  {
   "cell_type": "code",
   "execution_count": null,
   "metadata": {
    "colab": {
     "base_uri": "https://localhost:8080/",
     "height": 845
    },
    "id": "XOeD0em8tm_p",
    "outputId": "cc3c58f0-071d-4deb-87ee-29e608ce7c9b"
   },
   "outputs": [],
   "source": [
    "f, axes = plt.subplots(1,2,figsize=(12, 8))\n",
    "ax = sns.countplot(x=\"happy_emoji\", hue=\"airline_sentiment\", data=dataset,ax=axes[0])\n",
    "ax.set(xticklabels=['False','True'])\n",
    "ax.set_xlabel('\"Happy\" emoji on Tweet')\n",
    "ax.set_ylabel('Number of Tweets')\n",
    "ax = sns.countplot(x=\"happy_emoji\", hue=\"airline_sentiment\", data=dataset[dataset.happy_emoji==1],ax=axes[1])\n",
    "ax.set(xticklabels=['True'])\n",
    "ax.set_xlabel('\"Happy\" emoji on Tweet')\n",
    "ax.set_ylabel('Number of Tweets')\n",
    "f.suptitle('Distribution of \"Happy\" emoji within the dataset',fontsize=15)\n",
    "del ax,f,axes"
   ]
  },
  {
   "cell_type": "code",
   "execution_count": null,
   "metadata": {
    "colab": {
     "base_uri": "https://localhost:8080/",
     "height": 845
    },
    "id": "AdxP1BP_EfVT",
    "outputId": "ff3091b7-0571-4c5f-bb39-3107d4316879"
   },
   "outputs": [],
   "source": [
    "f, axes = plt.subplots(1,2,figsize=(12, 8))\n",
    "ax = sns.countplot(x=\"sad_emoji\", hue=\"airline_sentiment\", data=dataset,ax=axes[0])\n",
    "ax.set(xticklabels=['False','True'])\n",
    "ax.set_xlabel('\"Sad\" emoji on Tweet')\n",
    "ax.set_ylabel('Number of Tweets')\n",
    "ax = sns.countplot(x=\"sad_emoji\", hue=\"airline_sentiment\", data=dataset[dataset.sad_emoji==1],ax=axes[1])\n",
    "ax.set(xticklabels=['True'])\n",
    "ax.set_xlabel('\"Sad\" emoji on Tweet')\n",
    "ax.set_ylabel('Number of Tweets')\n",
    "f.suptitle('Distribution of \"Sad\" emoji within the dataset',fontsize=15)\n",
    "del ax,f,axes"
   ]
  },
  {
   "cell_type": "code",
   "execution_count": null,
   "metadata": {
    "colab": {
     "base_uri": "https://localhost:8080/"
    },
    "id": "ahn8nZc9wDtM",
    "outputId": "a34fcde3-26db-4825-e6ef-2f5cf163b488"
   },
   "outputs": [],
   "source": [
    "print(dataset.groupby(\"airline_sentiment\", group_keys=True)[['happy_emoji']].value_counts())\n",
    "print('-'*50)\n",
    "print(dataset.groupby(\"airline_sentiment\", group_keys=True)[['sad_emoji']].value_counts())"
   ]
  },
  {
   "cell_type": "code",
   "execution_count": null,
   "metadata": {
    "id": "xPgum7TsjhMC"
   },
   "outputs": [],
   "source": [
    "positive_sentiment = dataset[dataset.airline_sentiment == \"positive\"]\n",
    "positive_text=positive_sentiment['text']\n",
    "negative_sentiment = dataset[dataset.airline_sentiment == 'negative']\n",
    "negative_text=negative_sentiment['text']\n",
    "neutral_sentiment = dataset[dataset.airline_sentiment == 'neutral']\n",
    "neutral_text=neutral_sentiment['text']\n",
    "complain_text = top_complain_df['top_complain_reason']\n",
    "top_authors = top_tweeter_df[\"top_tweet_authors\"]"
   ]
  },
  {
   "cell_type": "code",
   "execution_count": null,
   "metadata": {
    "colab": {
     "base_uri": "https://localhost:8080/",
     "height": 479
    },
    "id": "TEwHlBKtjpwb",
    "outputId": "98b75085-d98c-47e2-ad4e-b2808789afdc"
   },
   "outputs": [],
   "source": [
    "%%time\n",
    "# Create and generate a word\n",
    "fig, ax = plt.subplots(1, 5, figsize=(25, 8),edgecolor = 'k')\n",
    "positive_tweet = WordCloud(width = 200,height = 300,colormap=\"Paired\",background_color = 'black',max_words = 90,stopwords = STOPWORDS).generate(str(positive_text))\n",
    "negative_tweet = WordCloud(width = 200,height = 300,colormap=\"Paired\",background_color = 'black',max_words = 90,stopwords = STOPWORDS).generate(str(negative_text))\n",
    "neutral_tweet = WordCloud(width = 200,height = 300,colormap=\"Paired\",background_color = 'black',max_words = 90,stopwords = STOPWORDS).generate(str(neutral_text))\n",
    "complain_tweet = WordCloud(width = 200,height = 300,colormap=\"Paired\",background_color = 'black',max_words = 90,stopwords = STOPWORDS).generate(str(complain_text))\n",
    "top_authors_tweet = WordCloud(width = 200,height = 300,colormap=\"Paired\",background_color = 'black',max_words = 90,stopwords = STOPWORDS).generate(str(top_authors))\n",
    "\n",
    "ax[0].imshow(positive_tweet)\n",
    "ax[0].axis('off')\n",
    "ax[0].set_title('Positive Sentiment')\n",
    "\n",
    "ax[1].imshow(negative_tweet)\n",
    "ax[1].axis('off')\n",
    "ax[1].set_title('Negative Sentiment')\n",
    "\n",
    "ax[2].imshow(neutral_tweet)\n",
    "ax[2].axis('off')\n",
    "ax[2].set_title('Neutral Sentiment')\n",
    "\n",
    "\n",
    "\n",
    "ax[3].imshow(complain_tweet)\n",
    "ax[3].axis('off')\n",
    "ax[3].set_title('Top complain from clients')\n",
    "\n",
    "\n",
    "ax[4].imshow(top_authors_tweet)\n",
    "ax[4].axis('off')\n",
    "ax[4].set_title('top authors name')\n",
    "\n",
    "plt.show()\n",
    "del top_tweeter_df,top_complain_df,fig,ax,positive_tweet,negative_tweet,neutral_tweet,complain_tweet,top_authors_tweet"
   ]
  },
  {
   "cell_type": "code",
   "execution_count": null,
   "metadata": {
    "id": "WlIXhYscwG1N"
   },
   "outputs": [],
   "source": [
    "def stop_word_and_stemming(tweet:str)->str:\n",
    "    tknzr = TweetTokenizer(preserve_case=False,strip_handles=True, reduce_len=True)\n",
    "    myStemmer = PorterStemmer()\n",
    "    tweet = tknzr.tokenize(tweet)\n",
    "    stop = set(stopwords.words('english'))\n",
    "    new_list = [myStemmer.stem(word) for word in tweet if word not in stop]\n",
    "    tweet = ' '.join(new_list)\n",
    "    return tweet\n",
    "\n",
    "#For removing punctuation\n",
    "def remove_punctuations(text:str):\n",
    "    for punctuation in string.punctuation:\n",
    "        text = text.replace(punctuation, '')\n",
    "    return text"
   ]
  },
  {
   "cell_type": "code",
   "execution_count": null,
   "metadata": {
    "id": "Jpaf-v_Qwbcr"
   },
   "outputs": [],
   "source": [
    "dataset['text'] = dataset['text'].apply(stop_word_and_stemming)"
   ]
  },
  {
   "cell_type": "code",
   "execution_count": null,
   "metadata": {
    "id": "5vFWIAHwwrzs"
   },
   "outputs": [],
   "source": [
    "dataset['text'] = dataset['text'].apply(remove_punctuations)"
   ]
  },
  {
   "cell_type": "code",
   "execution_count": null,
   "metadata": {
    "colab": {
     "base_uri": "https://localhost:8080/"
    },
    "id": "ZGc1Be706dF9",
    "outputId": "ed0d6a44-a40a-441e-d382-b199a7d6cb6a"
   },
   "outputs": [],
   "source": [
    "airline_dict = dict(zip(list_of_airlines,range(len(list_of_airlines))))\n",
    "dataset['airline_code'] = dataset.pop('airline').map(airline_dict)\n",
    "print(airline_dict)\n",
    "del airline_dict"
   ]
  },
  {
   "cell_type": "markdown",
   "metadata": {
    "id": "s6Rc8Hkv1M-V"
   },
   "source": [
    "## Drop less beneficial columns"
   ]
  },
  {
   "cell_type": "code",
   "execution_count": null,
   "metadata": {
    "id": "yqMwFurii1oL"
   },
   "outputs": [],
   "source": [
    "dataset.drop(['user_tag','tweet_id','name','negativereason','negativereason_confidence','airline_sentiment_gold','negativereason_gold','tweet_coord','tweet_location','user_timezone'],axis=1,inplace=True)"
   ]
  },
  {
   "cell_type": "code",
   "execution_count": null,
   "metadata": {
    "colab": {
     "base_uri": "https://localhost:8080/"
    },
    "id": "R8unWIAN1jIU",
    "outputId": "82fd55de-1b63-46a0-b8a2-6f963da5eec6"
   },
   "outputs": [],
   "source": [
    "print(\"Sum of missing values\",sum(dataset.isnull().sum()))"
   ]
  },
  {
   "cell_type": "markdown",
   "metadata": {
    "id": "w9uV28sersxq"
   },
   "source": [
    "#### Create a new column with classes renamed to positive = 1,negative = -1, neutral = 0"
   ]
  },
  {
   "cell_type": "code",
   "execution_count": null,
   "metadata": {
    "id": "S5YG8IdO7DbG"
   },
   "outputs": [],
   "source": [
    "target_dict = {'positive':1,'negative': -1,'neutral': 0}\n",
    "dataset['target'] = dataset['airline_sentiment'].map(target_dict)"
   ]
  },
  {
   "cell_type": "code",
   "execution_count": null,
   "metadata": {
    "colab": {
     "base_uri": "https://localhost:8080/",
     "height": 143
    },
    "id": "WJLVeneC1pqv",
    "outputId": "016823cd-5f08-43a3-e2ec-f0c25922e2b5"
   },
   "outputs": [],
   "source": [
    "dataset.head(3)"
   ]
  },
  {
   "cell_type": "code",
   "execution_count": null,
   "metadata": {
    "id": "eSCch1l9KdoD"
   },
   "outputs": [],
   "source": [
    "base_line_df = dataset.copy()"
   ]
  },
  {
   "cell_type": "code",
   "execution_count": null,
   "metadata": {
    "id": "QMcI9GFNJkzY"
   },
   "outputs": [],
   "source": [
    "def split_dataset(df:pd.DataFrame,test_percentage:float)-> tuple[pd.DataFrame,pd.DataFrame]:\n",
    "  shuffle = np.random.permutation(len(df))\n",
    "  test_size = int(len(df) * test_percentage)\n",
    "  test_aux = shuffle[:test_size]\n",
    "  train_aux = shuffle[test_size:]\n",
    "  return (df.iloc[train_aux],df.iloc[test_aux])"
   ]
  },
  {
   "cell_type": "code",
   "execution_count": null,
   "metadata": {
    "id": "IlFBGEJux8bE"
   },
   "outputs": [],
   "source": [
    "train, test = split_dataset(base_line_df,0.2)"
   ]
  },
  {
   "cell_type": "code",
   "execution_count": null,
   "metadata": {
    "id": "Zz5ckpD-qP5w"
   },
   "outputs": [],
   "source": [
    "train.drop_duplicates(inplace=True)"
   ]
  },
  {
   "cell_type": "code",
   "execution_count": null,
   "metadata": {
    "colab": {
     "base_uri": "https://localhost:8080/",
     "height": 718
    },
    "id": "VUhb2jcuWBjp",
    "outputId": "b4a17c77-9c88-484b-ca24-40d1aef4f92c"
   },
   "outputs": [],
   "source": [
    "fig, ax = plt.subplots(1, 2, figsize=(12, 8))\n",
    "sns.countplot(x='airline_sentiment', data=train, ax=ax[0])\n",
    "sns.countplot(x='airline_sentiment', data=test, ax=ax[1])\n",
    "ax[0].set_title('Train Data')\n",
    "ax[1].set_title('Test Data')\n",
    "plt.show()\n",
    "del ax,fig"
   ]
  },
  {
   "cell_type": "code",
   "execution_count": null,
   "metadata": {
    "colab": {
     "base_uri": "https://localhost:8080/"
    },
    "id": "Ih-resYgyi7Q",
    "outputId": "14078cee-de5e-4c65-a1ef-1c19bdbc3bad"
   },
   "outputs": [],
   "source": [
    "print(train.shape,test.shape)"
   ]
  },
  {
   "cell_type": "code",
   "execution_count": null,
   "metadata": {
    "colab": {
     "base_uri": "https://localhost:8080/"
    },
    "id": "8gwoUhpRlrI6",
    "outputId": "5291f799-99b1-4aa9-e9c4-810b09f8d9b3"
   },
   "outputs": [],
   "source": [
    "print(train[['target','airline_sentiment']].value_counts())\n",
    "print(\"test samples\",'-'*35)\n",
    "print(test[['target','airline_sentiment']].value_counts())"
   ]
  },
  {
   "cell_type": "code",
   "execution_count": null,
   "metadata": {
    "colab": {
     "base_uri": "https://localhost:8080/",
     "height": 178
    },
    "id": "fmoB-Gup2Jij",
    "outputId": "c65ae9e7-4ef0-4714-ce8b-7a45a5be1b77"
   },
   "outputs": [],
   "source": [
    "train.head(3)"
   ]
  },
  {
   "cell_type": "markdown",
   "metadata": {
    "id": "HtfqM1rwNl5h"
   },
   "source": [
    "### Baseline Model Implementation\n"
   ]
  },
  {
   "cell_type": "code",
   "execution_count": null,
   "metadata": {
    "id": "k9LltXvX7nDz"
   },
   "outputs": [],
   "source": [
    "y = train['target'].to_numpy()"
   ]
  },
  {
   "cell_type": "code",
   "execution_count": null,
   "metadata": {
    "id": "TDGE5tcPDj_C"
   },
   "outputs": [],
   "source": [
    "y_t = test['target'].to_numpy()"
   ]
  },
  {
   "cell_type": "markdown",
   "metadata": {
    "id": "4WcRhifZ_-eq"
   },
   "source": [
    "### Bag of words (BoW)."
   ]
  },
  {
   "cell_type": "code",
   "execution_count": null,
   "metadata": {
    "id": "waByeEL1C1Gx"
   },
   "outputs": [],
   "source": [
    "vec = TfidfVectorizer(ngram_range=(1,2),stop_words='english',use_idf=False).fit(train['text'])"
   ]
  },
  {
   "cell_type": "code",
   "execution_count": null,
   "metadata": {
    "id": "GmoQmQtKZMNI"
   },
   "outputs": [],
   "source": [
    "X = vec.transform(train['text'])"
   ]
  },
  {
   "cell_type": "code",
   "execution_count": null,
   "metadata": {
    "id": "c0ZSM2DaDval"
   },
   "outputs": [],
   "source": [
    "X_t =vec.transform(test['text'])"
   ]
  },
  {
   "cell_type": "code",
   "execution_count": null,
   "metadata": {
    "id": "uOASoIsiI34I"
   },
   "outputs": [],
   "source": [
    "vocab_size = len(vec.vocabulary_) + 1"
   ]
  },
  {
   "cell_type": "code",
   "execution_count": null,
   "metadata": {
    "colab": {
     "base_uri": "https://localhost:8080/"
    },
    "id": "lPjZkW_nJBYi",
    "outputId": "f5dff04d-eae2-4ad1-8277-e21863eecdeb"
   },
   "outputs": [],
   "source": [
    "print(\"Vocabulary Size :\", vocab_size)"
   ]
  },
  {
   "cell_type": "code",
   "execution_count": null,
   "metadata": {
    "id": "wixkoEqyD_eU"
   },
   "outputs": [],
   "source": [
    "# feature selection\n",
    "def features_selection(X_train, y_train, X_test):\n",
    "\tSKB = SelectKBest(score_func=chi2, k='all')\n",
    "\tSKB.fit(X_train, y_train)\n",
    "\tX_train_fs = SKB.transform(X_train)\n",
    "\tX_test_fs = SKB.transform(X_test)\n",
    "\treturn X_train_fs, X_test_fs, SKB"
   ]
  },
  {
   "cell_type": "code",
   "execution_count": null,
   "metadata": {
    "id": "Tr5BGDZ1EIV9"
   },
   "outputs": [],
   "source": [
    "X_train_fs, X_test_fs, SKB = features_selection(X, y, X_t)"
   ]
  },
  {
   "cell_type": "code",
   "execution_count": null,
   "metadata": {
    "colab": {
     "base_uri": "https://localhost:8080/"
    },
    "id": "lHdM1aIuMIop",
    "outputId": "071e51fe-75bf-4698-a51f-91122a2d969e"
   },
   "outputs": [],
   "source": [
    "for i in range(3):\n",
    "\tprint('Feature %d: %f' % (i, SKB.scores_[i]))"
   ]
  },
  {
   "cell_type": "markdown",
   "metadata": {
    "id": "dx67MWEZx8-D"
   },
   "source": [
    "####Linear support vector machine (With class weight to compensate for the imbalance)."
   ]
  },
  {
   "cell_type": "code",
   "execution_count": null,
   "metadata": {
    "id": "ietXlyYuN4LA"
   },
   "outputs": [],
   "source": [
    "param_grid = {'C': [0.01, 0.1, 1.0, 10.0, 100.0]}\n",
    "clf = LinearSVC(loss='hinge',random_state=1,class_weight=\"balanced\")"
   ]
  },
  {
   "cell_type": "code",
   "execution_count": null,
   "metadata": {
    "colab": {
     "base_uri": "https://localhost:8080/"
    },
    "id": "-32AYf47rvEM",
    "outputId": "0a8af4ad-f6c9-4d32-e321-46a91105de53"
   },
   "outputs": [],
   "source": [
    "grids = GridSearchCV(clf, param_grid,verbose=1,n_jobs=-1)\n",
    "grids = grids.fit(X_train_fs, y)\n",
    "print (\"Best parameters: %s\" % grids.best_params_)"
   ]
  },
  {
   "cell_type": "code",
   "execution_count": null,
   "metadata": {
    "id": "RUMWk-ImVvNH"
   },
   "outputs": [],
   "source": [
    "base_line_predictions = grids.predict(X_test_fs)"
   ]
  },
  {
   "cell_type": "markdown",
   "metadata": {
    "id": "IcI1ywK8-M3R"
   },
   "source": []
  },
  {
   "cell_type": "code",
   "execution_count": null,
   "metadata": {
    "id": "bL2m54Sk9ZXT"
   },
   "outputs": [],
   "source": [
    "def score_board_df(y_test,predictions,model_name,averaging_method='macro')-> pd.DataFrame:\n",
    "  f1 = \"%0.3f\" % f1_score(y_test, predictions,average=averaging_method)\n",
    "  prec = \"%0.3f\" % precision_score(y_test, predictions,average=averaging_method)\n",
    "  rec =\"%0.3f\" % recall_score(y_test, predictions,average=averaging_method)\n",
    "  acc = \"%0.3f\" % accuracy_score(y_test, predictions)\n",
    "  return pd.DataFrame({\"classifier-name\":model_name,\"f1_score\":[f1],\"precision\":[prec],\"recall\":[rec],\"accuracy\":[acc],\"Average-method\":averaging_method})\n"
   ]
  },
  {
   "cell_type": "code",
   "execution_count": null,
   "metadata": {
    "id": "M1vzeLFdNENs"
   },
   "outputs": [],
   "source": [
    "score_board = score_board_df(y_t, base_line_predictions,\"LinearSVC\")"
   ]
  },
  {
   "cell_type": "code",
   "execution_count": null,
   "metadata": {
    "colab": {
     "base_uri": "https://localhost:8080/",
     "height": 89
    },
    "id": "3QUW8E6cPN1R",
    "outputId": "1097bd5e-27cb-4d4d-8178-2912e9ac5c04"
   },
   "outputs": [],
   "source": [
    "score_board"
   ]
  },
  {
   "cell_type": "code",
   "execution_count": null,
   "metadata": {
    "id": "MWcADpn9S1ii"
   },
   "outputs": [],
   "source": [
    "def conf_matrix(y_true, y_pred)-> pd.DataFrame:\n",
    "    # Creating a confusion matrix\n",
    "    cm = confusion_matrix(y_true, y_pred)\n",
    "    con_mat = pd.DataFrame(cm, index=np.unique(y_true),columns=np.unique(y_true))\n",
    "    #Ploting the confusion matrix\n",
    "    plt.figure(figsize=(12,8))\n",
    "    ax = sns.heatmap(con_mat, annot=True, annot_kws={\"size\": 16}, fmt='g', cmap=plt.cm.Blues, cbar=False)\n",
    "    ax.set_title('Confusion matrix')\n",
    "    ax.set_xlabel('\\nPredicted labels')\n",
    "    ax.set_ylabel('True labels')\n",
    "    plt.show()\n",
    "    return con_mat"
   ]
  },
  {
   "cell_type": "code",
   "execution_count": null,
   "metadata": {
    "colab": {
     "base_uri": "https://localhost:8080/",
     "height": 734
    },
    "id": "aGw5IAKfY8A5",
    "outputId": "90703fdb-ed28-4a94-eaff-4878f0da2cde"
   },
   "outputs": [],
   "source": [
    "_= conf_matrix(y_t, base_line_predictions)"
   ]
  },
  {
   "cell_type": "code",
   "execution_count": null,
   "metadata": {
    "id": "4xcNy0NMmCbL"
   },
   "outputs": [],
   "source": [
    "#print(test[y_t!=base_line_predictions]) #misclassified texts"
   ]
  },
  {
   "cell_type": "markdown",
   "metadata": {
    "id": "VLyljm2PHmuG"
   },
   "source": [
    "### Model 1"
   ]
  },
  {
   "cell_type": "markdown",
   "metadata": {
    "id": "xOfmCTHVng2w"
   },
   "source": [
    "### Word Embeddeding"
   ]
  },
  {
   "cell_type": "markdown",
   "metadata": {
    "id": "cXXPX77BIHgv"
   },
   "source": []
  },
  {
   "cell_type": "code",
   "execution_count": null,
   "metadata": {
    "id": "XGCSjFsMWYLt"
   },
   "outputs": [],
   "source": [
    "def create_word_vector(text):\n",
    "  tknzr = TweetTokenizer()\n",
    "  tweet = tknzr.tokenize(text)\n",
    "  aux = [int(vec.vocabulary_[k]) for k in tweet if k in vec.vocabulary_.keys()]\n",
    "  return aux"
   ]
  },
  {
   "cell_type": "code",
   "execution_count": null,
   "metadata": {
    "id": "9YzN-8FqCTd_"
   },
   "outputs": [],
   "source": [
    "model_1_train = train.copy()\n",
    "model_1_test = test.copy()"
   ]
  },
  {
   "cell_type": "code",
   "execution_count": null,
   "metadata": {
    "id": "taCoJB1kUNG5"
   },
   "outputs": [],
   "source": [
    "model_1_train['text'] = model_1_train.text.apply(create_word_vector)\n",
    "model_1_test['text'] = model_1_test.text.apply(create_word_vector)"
   ]
  },
  {
   "cell_type": "code",
   "execution_count": null,
   "metadata": {
    "colab": {
     "base_uri": "https://localhost:8080/"
    },
    "id": "CPhL_mgfw6oq",
    "outputId": "eb545d13-b7f6-4cef-c87f-8728811e3386"
   },
   "outputs": [],
   "source": [
    "MAX_LENGTH =len(max(model_1_train.text, key=len))\n",
    "print(MAX_LENGTH)"
   ]
  },
  {
   "cell_type": "code",
   "execution_count": null,
   "metadata": {
    "id": "5kurIr8XxmPB"
   },
   "outputs": [],
   "source": [
    "X_train= pad_sequences(model_1_train.text, maxlen=MAX_LENGTH,padding='post')"
   ]
  },
  {
   "cell_type": "code",
   "execution_count": null,
   "metadata": {
    "id": "HZagwarOCkly"
   },
   "outputs": [],
   "source": [
    "X_test = pad_sequences(model_1_test.text, maxlen=MAX_LENGTH,padding='post')"
   ]
  },
  {
   "cell_type": "code",
   "execution_count": null,
   "metadata": {
    "id": "q4zt6nds4cU1"
   },
   "outputs": [],
   "source": [
    "encoder = LabelEncoder()\n",
    "encoder.fit(model_1_train.airline_sentiment.tolist())\n",
    "Y = encoder.transform(model_1_train.airline_sentiment.tolist())\n",
    "Y_t = encoder.transform(model_1_test.airline_sentiment.tolist())"
   ]
  },
  {
   "cell_type": "code",
   "execution_count": null,
   "metadata": {
    "colab": {
     "base_uri": "https://localhost:8080/"
    },
    "id": "4xhD_Nlo8SLH",
    "outputId": "394a4a4b-231c-4b6e-c260-28e9dff5e9da"
   },
   "outputs": [],
   "source": [
    "Y[27:30]"
   ]
  },
  {
   "cell_type": "code",
   "execution_count": null,
   "metadata": {
    "id": "UUmbMnHI-29q"
   },
   "outputs": [],
   "source": [
    "Y_train = keras.utils.to_categorical(Y, num_classes=3)"
   ]
  },
  {
   "cell_type": "code",
   "execution_count": null,
   "metadata": {
    "id": "33yCWp92vA-S"
   },
   "outputs": [],
   "source": [
    "Y_test = keras.utils.to_categorical(Y_t, num_classes=3)"
   ]
  },
  {
   "cell_type": "code",
   "execution_count": null,
   "metadata": {
    "colab": {
     "base_uri": "https://localhost:8080/"
    },
    "id": "p9h22k-m_c0A",
    "outputId": "d179201f-3161-4d18-970d-11d8da112750"
   },
   "outputs": [],
   "source": [
    "Y_train[27:30]"
   ]
  },
  {
   "cell_type": "code",
   "execution_count": null,
   "metadata": {
    "colab": {
     "base_uri": "https://localhost:8080/",
     "height": 178
    },
    "id": "42XeTa8knrLo",
    "outputId": "7f6626df-98ac-41d5-dfd2-e260ce089e0d"
   },
   "outputs": [],
   "source": [
    "model_1_train.airline_sentiment[27:30]"
   ]
  },
  {
   "cell_type": "code",
   "execution_count": null,
   "metadata": {
    "id": "QyGigWh3Qzh0"
   },
   "outputs": [],
   "source": [
    "METRICS = [keras.metrics.CategoricalAccuracy(name='accuracy'),keras.metrics.Precision(name='precision'),keras.metrics.Recall(name='recall'),keras.metrics.AUC(name='prc', curve='PR')]"
   ]
  },
  {
   "cell_type": "code",
   "execution_count": null,
   "metadata": {
    "colab": {
     "base_uri": "https://localhost:8080/",
     "height": 357
    },
    "id": "dz9cw8p7JLHm",
    "outputId": "023f573d-0c44-4d82-e513-e5c1b5de1057"
   },
   "outputs": [],
   "source": [
    "embeding_vector_length= 32\n",
    "# define the model\n",
    "model = keras.models.Sequential()\n",
    "model.add(keras.layers.Embedding(vocab_size, embeding_vector_length, input_length=MAX_LENGTH))\n",
    "model.add(keras.layers.Bidirectional(keras.layers.LSTM(64,return_sequences=True,dropout=0.2, recurrent_dropout=0.2)))\n",
    "model.add(keras.layers.GlobalAveragePooling1D())\n",
    "model.add(keras.layers.Dense(200, activation='relu'))\n",
    "model.add(keras.layers.Dense(3, activation='softmax'))\n",
    "model.compile(loss=keras.losses.CategoricalCrossentropy(),optimizer=keras.optimizers.Adam(learning_rate=1e-3),metrics =METRICS)\n",
    "print(model.summary())"
   ]
  },
  {
   "cell_type": "code",
   "execution_count": null,
   "metadata": {
    "id": "HwrZhLTwUgMN"
   },
   "outputs": [],
   "source": [
    "EPOCHS = 30\n",
    "BATCH_SIZE = 2048"
   ]
  },
  {
   "cell_type": "code",
   "execution_count": null,
   "metadata": {
    "colab": {
     "base_uri": "https://localhost:8080/"
    },
    "id": "hIpvAPX4lBXJ",
    "outputId": "15685166-2d2e-492b-dbf2-eba3d21a98ef"
   },
   "outputs": [],
   "source": [
    "lr = tf.keras.callbacks.ReduceLROnPlateau(factor = 0.1, min_lr = 0.01, monitor='val_prc', verbose = 1)\n",
    "early_stopping = tf.keras.callbacks.EarlyStopping(monitor='val_prc',mode='max',verbose=1,patience=10,restore_best_weights=True)\n",
    "model_1_history  = model.fit(X_train,Y_train,batch_size=BATCH_SIZE,epochs=EPOCHS,callbacks=[lr,early_stopping],validation_data=(X_test ,Y_test))"
   ]
  },
  {
   "cell_type": "code",
   "execution_count": null,
   "metadata": {
    "id": "NUwiBwKaFkmk"
   },
   "outputs": [],
   "source": [
    "def plot_metrics(history):\n",
    "  metrics = ['loss', 'accuracy','precision', 'recall']\n",
    "  for n, metric in enumerate(metrics):\n",
    "    name = metric.replace(\"_\",\" \").capitalize()\n",
    "    plt.subplot(2,2,n+1)\n",
    "    plt.rcParams[\"figure.figsize\"] = (12,8)\n",
    "    plt.plot(history.epoch, history.history[metric], label='Train')\n",
    "    plt.plot(history.epoch, history.history['val_'+metric],linestyle=\"--\", label='Val')\n",
    "    plt.xlabel('Epoch')\n",
    "    plt.ylabel(name)\n",
    "    if metric == 'loss':\n",
    "      plt.ylim([0, plt.ylim()[1]])\n",
    "    elif metric == 'auc':\n",
    "      plt.ylim([0.8,1])\n",
    "    else:\n",
    "      plt.ylim([0,1])\n",
    "\n",
    "    plt.legend()\n"
   ]
  },
  {
   "cell_type": "code",
   "execution_count": null,
   "metadata": {
    "colab": {
     "base_uri": "https://localhost:8080/",
     "height": 701
    },
    "id": "sxrPnMaIFwBF",
    "outputId": "bce38c9b-c144-45ce-eb21-4255161dd977"
   },
   "outputs": [],
   "source": [
    "plot_metrics(model_1_history)"
   ]
  },
  {
   "cell_type": "code",
   "execution_count": null,
   "metadata": {
    "id": "s3_n1Ye6mxy-"
   },
   "outputs": [],
   "source": [
    "model_1_results = model.evaluate(X_test ,Y_test,verbose=0)"
   ]
  },
  {
   "cell_type": "code",
   "execution_count": null,
   "metadata": {
    "colab": {
     "base_uri": "https://localhost:8080/"
    },
    "id": "bNLgKKGOhfnG",
    "outputId": "6cf5be1b-9a2f-4b5f-95ec-67e1d81ca649"
   },
   "outputs": [],
   "source": [
    "for name, value in zip(model.metrics_names, model_1_results):\n",
    "  print(name, ': {:.3f}'.format(value))\n",
    "print()"
   ]
  },
  {
   "cell_type": "code",
   "execution_count": null,
   "metadata": {
    "id": "d1UVS3U-hfMc"
   },
   "outputs": [],
   "source": [
    "model_1_predictions = np.argmax(model.predict(X_test,verbose=0), axis=-1)"
   ]
  },
  {
   "cell_type": "code",
   "execution_count": null,
   "metadata": {
    "id": "TbvW_oNq_EEh"
   },
   "outputs": [],
   "source": [
    "score_board2 = score_board_df(Y_t, model_1_predictions,\"RNN\")"
   ]
  },
  {
   "cell_type": "code",
   "execution_count": null,
   "metadata": {
    "id": "Vi3SfHOIlTsx"
   },
   "outputs": [],
   "source": [
    "score_board = pd.concat([score_board,score_board2])"
   ]
  },
  {
   "cell_type": "code",
   "execution_count": null,
   "metadata": {
    "colab": {
     "base_uri": "https://localhost:8080/",
     "height": 125
    },
    "id": "T-6b7Oq6larW",
    "outputId": "f90a2ba9-f413-4146-85c7-250acb10f2d2"
   },
   "outputs": [],
   "source": [
    "score_board"
   ]
  },
  {
   "cell_type": "code",
   "execution_count": null,
   "metadata": {
    "colab": {
     "base_uri": "https://localhost:8080/",
     "height": 734
    },
    "id": "DY5knDdO8eUn",
    "outputId": "8e2516a4-ce75-43ef-e14a-080453b17279"
   },
   "outputs": [],
   "source": []
  },
  {
   "cell_type": "code",
   "execution_count": null,
   "metadata": {
    "id": "6-EZgukjkqMM"
   },
   "outputs": [],
   "source": []
  },
  {
   "cell_type": "markdown",
   "metadata": {
    "id": "qSzNi5CNJkKW"
   },
   "source": []
  }
 ],
 "metadata": {
  "colab": {
   "provenance": []
  },
  "kernelspec": {
   "display_name": "Python 3 (ipykernel)",
   "language": "python",
   "name": "python3"
  },
  "language_info": {
   "codemirror_mode": {
    "name": "ipython",
    "version": 3
   },
   "file_extension": ".py",
   "mimetype": "text/x-python",
   "name": "python",
   "nbconvert_exporter": "python",
   "pygments_lexer": "ipython3",
   "version": "3.12.3"
  }
 },
 "nbformat": 4,
 "nbformat_minor": 4
}
